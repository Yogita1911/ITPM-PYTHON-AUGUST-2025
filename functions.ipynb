{
 "cells": [
  {
   "cell_type": "code",
   "execution_count": 2,
   "id": "de1a39f3",
   "metadata": {},
   "outputs": [
    {
     "name": "stdout",
     "output_type": "stream",
     "text": [
      " Addition of 43 and 65 is : 108\n"
     ]
    }
   ],
   "source": [
    "x = int(input(\"Enter a number\"))\n",
    "y = int(input(\"Enter a number\"))\n",
    "print(f\" Addition of {x} and {y} is : {x+y}\")"
   ]
  },
  {
   "cell_type": "code",
   "execution_count": 3,
   "id": "9936c9de",
   "metadata": {},
   "outputs": [
    {
     "name": "stdout",
     "output_type": "stream",
     "text": [
      " Addition of 32 and 65 is : 97\n"
     ]
    }
   ],
   "source": [
    "x = int(input(\"Enter a number\"))\n",
    "y = int(input(\"Enter a number\"))\n",
    "print(f\" Addition of {x} and {y} is : {x+y}\")"
   ]
  },
  {
   "cell_type": "code",
   "execution_count": 4,
   "id": "9bab79e4",
   "metadata": {},
   "outputs": [
    {
     "name": "stdout",
     "output_type": "stream",
     "text": [
      " Addition of 32 and 65 is : 97\n"
     ]
    }
   ],
   "source": [
    "x = int(input(\"Enter a number\"))\n",
    "y = int(input(\"Enter a number\"))\n",
    "print(f\" Addition of {x} and {y} is : {x+y}\")"
   ]
  },
  {
   "cell_type": "code",
   "execution_count": 7,
   "id": "34b80faa",
   "metadata": {},
   "outputs": [
    {
     "name": "stdout",
     "output_type": "stream",
     "text": [
      " Addition of 23 and 43: 66\n",
      " Addition of 32 and 65: 97\n",
      " Addition of 32 and 54: 86\n"
     ]
    }
   ],
   "source": [
    "def add(x,y):\n",
    "    return f\" Addition of {x} and {y}: {x+y}\"\n",
    "\n",
    "print(add(23,43))\n",
    "print(add(32,65))\n",
    "print(add(32,54))"
   ]
  },
  {
   "cell_type": "markdown",
   "id": "a41441fc",
   "metadata": {},
   "source": [
    "Types of Functions:\n",
    "                   1.Built-in function/Pre-defined function\n",
    "                   2.User defined function\n",
    "                   3.Lambda function\n",
    "                   4.Recurssion function"
   ]
  },
  {
   "cell_type": "code",
   "execution_count": null,
   "id": "9f3a6500",
   "metadata": {},
   "outputs": [
    {
     "data": {
      "text/plain": [
       "54"
      ]
     },
     "execution_count": 8,
     "metadata": {},
     "output_type": "execute_result"
    }
   ],
   "source": [
    "#1.Buit-in function:\n",
    "l1 = [1,23,44,54,32]\n",
    "(l1)"
   ]
  },
  {
   "cell_type": "markdown",
   "id": "03e0da76",
   "metadata": {},
   "source": [
    "2.User-defined functions:\n",
    "syntax: def Function_name():\n",
    "               stat\n",
    "\n",
    "         function_name()    "
   ]
  },
  {
   "cell_type": "code",
   "execution_count": 9,
   "id": "7d5271d7",
   "metadata": {},
   "outputs": [
    {
     "data": {
      "text/plain": [
       "'I am Yogita'"
      ]
     },
     "execution_count": 9,
     "metadata": {},
     "output_type": "execute_result"
    }
   ],
   "source": [
    "def Name():\n",
    "    return f\"I am Yogita\"\n",
    "Name()"
   ]
  },
  {
   "cell_type": "code",
   "execution_count": null,
   "id": "fb1b36cd",
   "metadata": {},
   "outputs": [],
   "source": [
    "def Add(a,b,c):\n",
    "    return a+b+c\n",
    "print(Add(10,20,30))\n",
    "print(Add(34,65,87))"
   ]
  },
  {
   "cell_type": "code",
   "execution_count": null,
   "id": "b17a7b38",
   "metadata": {},
   "outputs": [],
   "source": [
    "#1.Passing Single Parameter.\n",
    "def number(num):\n",
    "    return num\n",
    "number(34)"
   ]
  },
  {
   "cell_type": "code",
   "execution_count": 17,
   "id": "d644a7da",
   "metadata": {},
   "outputs": [
    {
     "data": {
      "text/plain": [
       "(12, 54)"
      ]
     },
     "execution_count": 17,
     "metadata": {},
     "output_type": "execute_result"
    }
   ],
   "source": [
    "#2.Multiple\n",
    "def Numbers(num1,num2):\n",
    "    return num1,num2\n",
    "Numbers(12,54)"
   ]
  },
  {
   "cell_type": "code",
   "execution_count": null,
   "id": "249f4d53",
   "metadata": {},
   "outputs": [],
   "source": [
    "def Stud_Reg(Name,ID,Age,Address=\"Pune\"):\n",
    "    return f\" Details of {Name} are ID: {ID} , Age: {Age} and Address :{Address}\"\n",
    "print(Stud_Reg(\"Soham\",107,22,\"Mumbai\"))\n",
    "print(Stud_Reg(\"Parth\",109,22))\n",
    "print(Stud_Reg(\"Riya\",202,22,\"Delhi\"))"
   ]
  },
  {
   "cell_type": "code",
   "execution_count": null,
   "id": "bc9248c5",
   "metadata": {},
   "outputs": [],
   "source": [
    "def Info(Name,Id=100,Marks):#Wrong way to declear \n",
    "    return Name,Id,Marks\n",
    "Info(\"Madhav\",99)"
   ]
  },
  {
   "cell_type": "code",
   "execution_count": 26,
   "id": "727c07aa",
   "metadata": {},
   "outputs": [
    {
     "data": {
      "text/plain": [
       "('Madhav', 102, 99)"
      ]
     },
     "execution_count": 26,
     "metadata": {},
     "output_type": "execute_result"
    }
   ],
   "source": [
    "def Info(Name,Marks,Id=100):\n",
    "    return Name,Id,Marks\n",
    "Info(\"Madhav\",99,102)"
   ]
  },
  {
   "cell_type": "code",
   "execution_count": 31,
   "id": "214ec8df",
   "metadata": {},
   "outputs": [
    {
     "name": "stdout",
     "output_type": "stream",
     "text": [
      "32\n",
      "24\n"
     ]
    }
   ],
   "source": [
    "def Marks(Pratik,Jay,Tanay):\n",
    "    return Tanay\n",
    "print(Marks(24,54,32))\n",
    "print(Marks(Tanay=24,Jay=23,Pratik=22))"
   ]
  },
  {
   "cell_type": "code",
   "execution_count": 33,
   "id": "891ae345",
   "metadata": {},
   "outputs": [
    {
     "name": "stdout",
     "output_type": "stream",
     "text": [
      "[1, 23, 45, 65]\n"
     ]
    }
   ],
   "source": [
    "def Marks1(num):\n",
    "    return num\n",
    "print(Marks1([1,23,45,65]))"
   ]
  },
  {
   "cell_type": "code",
   "execution_count": 35,
   "id": "ea67d782",
   "metadata": {},
   "outputs": [
    {
     "name": "stdout",
     "output_type": "stream",
     "text": [
      "{'Pallavi', 'Shrdha', 'Teja', 'Shruti'}\n",
      "{'Name': ['Shrdha', 'Shruti', 'Pallavi', 'Teja']}\n"
     ]
    }
   ],
   "source": [
    "def Names(name):\n",
    "    return name\n",
    "print(Names({\"Shrdha\",\"Shruti\",\"Pallavi\",\"Teja\"}))\n",
    "print(Names({'Name':[\"Shrdha\",\"Shruti\",\"Pallavi\",\"Teja\"]}))\n"
   ]
  },
  {
   "cell_type": "code",
   "execution_count": 39,
   "id": "3f4954e0",
   "metadata": {},
   "outputs": [
    {
     "name": "stdout",
     "output_type": "stream",
     "text": [
      "23\n",
      "77\n"
     ]
    }
   ],
   "source": [
    "def Python_Marks(*Marks):\n",
    "    return sum(Marks)\n",
    "\n",
    "print(Python_Marks(23))\n",
    "print(Python_Marks(23,54))"
   ]
  },
  {
   "cell_type": "code",
   "execution_count": 42,
   "id": "0eb0315e",
   "metadata": {},
   "outputs": [
    {
     "data": {
      "text/plain": [
       "60"
      ]
     },
     "execution_count": 42,
     "metadata": {},
     "output_type": "execute_result"
    }
   ],
   "source": [
    "\n",
    "def mul(a,b):\n",
    "    return a*b\n",
    "a = int(input(\"Enter a number\"))\n",
    "b = int(input(\"Enter anumber\"))  \n",
    "mul(a,b)"
   ]
  },
  {
   "cell_type": "code",
   "execution_count": 43,
   "id": "796afe0d",
   "metadata": {},
   "outputs": [
    {
     "data": {
      "text/plain": [
       "46"
      ]
     },
     "execution_count": 43,
     "metadata": {},
     "output_type": "execute_result"
    }
   ],
   "source": [
    "def mul(a,b):\n",
    "    return a*b\n",
    "\n",
    "\n",
    "mul(a = int(input(\"Enter a number\")),b = int(input(\"Enter anumber\"))  )"
   ]
  }
 ],
 "metadata": {
  "kernelspec": {
   "display_name": "Python 3",
   "language": "python",
   "name": "python3"
  },
  "language_info": {
   "codemirror_mode": {
    "name": "ipython",
    "version": 3
   },
   "file_extension": ".py",
   "mimetype": "text/x-python",
   "name": "python",
   "nbconvert_exporter": "python",
   "pygments_lexer": "ipython3",
   "version": "3.11.9"
  }
 },
 "nbformat": 4,
 "nbformat_minor": 5
}
