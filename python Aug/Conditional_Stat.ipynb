{
 "cells": [
  {
   "cell_type": "markdown",
   "id": "0bbb6de3",
   "metadata": {},
   "source": [
    "Conditional Statments:\n",
    "1.if\n",
    "2.if-else\n",
    "3.if- elif - else"
   ]
  },
  {
   "cell_type": "code",
   "execution_count": 1,
   "id": "4798da7d",
   "metadata": {},
   "outputs": [
    {
     "name": "stdout",
     "output_type": "stream",
     "text": [
      "[1, 2, 3, 4, 5, 6, 7, 8, 9, 10]\n"
     ]
    }
   ],
   "source": [
    "l1 = [1,2,3,4,5,6,7,8,9,10]\n",
    "print(l1)"
   ]
  },
  {
   "cell_type": "code",
   "execution_count": null,
   "id": "d397fd04",
   "metadata": {},
   "outputs": [],
   "source": [
    "for i in range(1,11):\n",
    "    print(i)\n",
    "\n"
   ]
  },
  {
   "cell_type": "markdown",
   "id": "db99c0be",
   "metadata": {},
   "source": [
    "1.If : if condition is true then only it will execute\n",
    "syntax : if condition/(cond) :\n",
    "             stat\n"
   ]
  },
  {
   "cell_type": "code",
   "execution_count": 3,
   "id": "73b3eafa",
   "metadata": {},
   "outputs": [],
   "source": [
    "#1.if\n",
    "#Wap to check given number is greater then 50 or not.if its greater then ..then print yes.\n",
    "\n",
    "x = int(input(\"enter a number\"))\n",
    "if x>50:\n",
    "    print(\"yes\")"
   ]
  },
  {
   "cell_type": "markdown",
   "id": "750cd384",
   "metadata": {},
   "source": [
    "2.if-else : if condition is true if block will get executed and if conndition is false then else will get executed.\n",
    "syntax :if condition:\n",
    "             stat\n",
    "        else : \n",
    "             stat   "
   ]
  },
  {
   "cell_type": "code",
   "execution_count": 5,
   "id": "52e51bea",
   "metadata": {},
   "outputs": [
    {
     "name": "stdout",
     "output_type": "stream",
     "text": [
      "2 is not greater then 20\n"
     ]
    }
   ],
   "source": [
    "#Wap to check number is greater then 20 or not.\n",
    "y = int(input(\"Enter a number\"))\n",
    "if y>20:\n",
    "    print(f\"{y} is greater then 20\")\n",
    "else:\n",
    "    print(f\"{y} is not greater then 20\")    "
   ]
  },
  {
   "cell_type": "code",
   "execution_count": null,
   "id": "66e9b4cc",
   "metadata": {},
   "outputs": [],
   "source": [
    "#Wap to give grade to student depend on marks."
   ]
  },
  {
   "cell_type": "code",
   "execution_count": 7,
   "id": "be5230c7",
   "metadata": {},
   "outputs": [
    {
     "name": "stdout",
     "output_type": "stream",
     "text": [
      "C\n"
     ]
    }
   ],
   "source": [
    "marks = int(input(\"enter marks\"))\n",
    "if marks>=90:\n",
    "    print(\"A\")\n",
    "elif marks>=80:\n",
    "    print(\"B\")\n",
    "else:\n",
    "    print(\"C\")        "
   ]
  },
  {
   "cell_type": "code",
   "execution_count": 8,
   "id": "cb16b234",
   "metadata": {},
   "outputs": [
    {
     "ename": "SyntaxError",
     "evalue": "invalid syntax (1565530047.py, line 4)",
     "output_type": "error",
     "traceback": [
      "  \u001b[36mCell\u001b[39m\u001b[36m \u001b[39m\u001b[32mIn[8]\u001b[39m\u001b[32m, line 4\u001b[39m\n\u001b[31m    \u001b[39m\u001b[31melif :\u001b[39m\n         ^\n\u001b[31mSyntaxError\u001b[39m\u001b[31m:\u001b[39m invalid syntax\n"
     ]
    }
   ],
   "source": [
    "marks = int(input(\"enter marks\"))\n",
    "if marks>=90:\n",
    "    print(\"A\")\n",
    "elif :\n",
    "    print(\"B\")\n",
    "else:\n",
    "    print(\"c\")"
   ]
  },
  {
   "cell_type": "code",
   "execution_count": 10,
   "id": "031c35f2",
   "metadata": {},
   "outputs": [
    {
     "name": "stdout",
     "output_type": "stream",
     "text": [
      "B\n"
     ]
    }
   ],
   "source": [
    "marks = int(input(\"enter marks\"))\n",
    "if marks>=90:\n",
    "    print(\"A\")\n",
    "elif marks>=80:\n",
    "    print(\"B\")\n"
   ]
  },
  {
   "cell_type": "code",
   "execution_count": null,
   "id": "88b44671",
   "metadata": {},
   "outputs": [
    {
     "ename": "SyntaxError",
     "evalue": "invalid syntax (374287233.py, line 4)",
     "output_type": "error",
     "traceback": [
      "  \u001b[36mCell\u001b[39m\u001b[36m \u001b[39m\u001b[32mIn[11]\u001b[39m\u001b[32m, line 4\u001b[39m\n\u001b[31m    \u001b[39m\u001b[31melif :\u001b[39m\n         ^\n\u001b[31mSyntaxError\u001b[39m\u001b[31m:\u001b[39m invalid syntax\n"
     ]
    }
   ],
   "source": [
    "marks = int(input(\"enter marks\"))\n",
    "if marks>=90:\n",
    "    print(\"A\")\n",
    "elif marks>=80:\n",
    "    print(\"B\")\n"
   ]
  },
  {
   "cell_type": "code",
   "execution_count": null,
   "id": "dd9fabd9",
   "metadata": {},
   "outputs": [],
   "source": [
    "x = 10\n",
    "elif x>20:\n",
    "    print(\"A\")\n",
    "if :\n",
    "    print(\"B\")    "
   ]
  },
  {
   "cell_type": "markdown",
   "id": "5fcd3bf6",
   "metadata": {},
   "source": [
    "if \n",
    "else\n",
    "elif"
   ]
  },
  {
   "cell_type": "code",
   "execution_count": null,
   "id": "4d47ef9c",
   "metadata": {},
   "outputs": [],
   "source": [
    "x = 10 \n",
    "if x>20 :\n",
    "    print(\"a\")\n",
    "else :\n",
    "    print(\"b\")\n",
    "elif x<30:\n",
    "    print(\"c\")        \n",
    "    \n"
   ]
  },
  {
   "cell_type": "markdown",
   "id": "bef7a016",
   "metadata": {},
   "source": [
    "if...............\n",
    "if-else......\n",
    "if elif if."
   ]
  },
  {
   "cell_type": "markdown",
   "id": "50876884",
   "metadata": {},
   "source": [
    "1.\tCheck if a Number is Positive, Negative, or Zero\n",
    "2.\tDetermine if a Person is Eligible to Vote Based on Age\n",
    "3.\tCheck if a Number is Divisible by Both 3 and 5.\n",
    "4.\tFind the Largest of Three Numbers\n",
    "5.\tCheck if a Character is a Vowel or Consonant\n",
    "6.\tDetermine if a Given Number is Even or Odd\n",
    "7.\tCheck if Two Numbers are Equal, Greater, or Lesser.\n",
    "8.\tDetermine the Grade Based on a Score (e.g., A, B, C, D, F)\n",
    "9.\tDetermine if a String Starts with a Vowel.\n",
    "10.\tCheck if a Year is a Leap Year.\n",
    "11.\tImplement a Simple Calculator Using if-elif-else Statements.\n",
    "12.\tCheck if a Number is Within a Certain Range (e.g., between 1 and 100).\n",
    "13.\tCheck if a String is Empty or Not.\n",
    "14.\tCheck if a Given Year is a Century Year.\n",
    "15.\tDetermine if a Person is a Child, Teen, or Adult Based on Age.\n",
    "\n"
   ]
  },
  {
   "cell_type": "code",
   "execution_count": 5,
   "id": "0c76d172",
   "metadata": {},
   "outputs": [
    {
     "name": "stdout",
     "output_type": "stream",
     "text": [
      "The number is Positive\n"
     ]
    }
   ],
   "source": [
    "#1.Wap to check given number is +,- or 0.\n",
    "x = int(input(\"Enter a number.\"))\n",
    "if x > 0 :\n",
    "    print(\"The number is Positive\")\n",
    "elif x < 0 :\n",
    "    print(\"The number is Negtive \")\n",
    "else:\n",
    "    print(\"The number is zero\")        "
   ]
  },
  {
   "cell_type": "code",
   "execution_count": 9,
   "id": "ec3b5299",
   "metadata": {},
   "outputs": [
    {
     "name": "stdout",
     "output_type": "stream",
     "text": [
      "43 is Positive\n"
     ]
    }
   ],
   "source": [
    "x = int(input(\"Enter a number.\"))\n",
    "if x > 0 :\n",
    "    print(f\"{x} is Positive\")\n",
    "elif x < 0 :\n",
    "    print(f\"{x} is Negtive \")\n",
    "else:\n",
    "    print(f\"{x} is zero\")  "
   ]
  },
  {
   "cell_type": "code",
   "execution_count": 13,
   "id": "d28a9b8b",
   "metadata": {},
   "outputs": [
    {
     "name": "stdout",
     "output_type": "stream",
     "text": [
      "Your age is -21 so your not Eligible fo voting.....\n"
     ]
    }
   ],
   "source": [
    "#2.Determine if a Person is Eligible to Vote Based on Age.\n",
    "age = int(input(\"Enter your age\"))\n",
    "if age>=18 :\n",
    "    print(f\"Your age is {age} so your Eligible fo voting.....\")\n",
    "else : \n",
    "    print(f\"Your age is {age} so your not Eligible fo voting.....\")    "
   ]
  },
  {
   "cell_type": "code",
   "execution_count": 16,
   "id": "e8eb30ab",
   "metadata": {},
   "outputs": [
    {
     "name": "stdout",
     "output_type": "stream",
     "text": [
      "Your age is 1000 so your Eligible fo voting.....\n"
     ]
    }
   ],
   "source": [
    "age = int(input(\"Enter your age\"))\n",
    "if age>=18 :\n",
    "    print(f\"Your age is {age} so your Eligible fo voting.....\")\n",
    "elif age<0: \n",
    "    print(f\"Enter a valid age\")   \n",
    "else  :\n",
    "    print(f\"Your age is {age} so your not Eligible fo voting.....\")    "
   ]
  },
  {
   "cell_type": "code",
   "execution_count": 26,
   "id": "73b0e2ff",
   "metadata": {},
   "outputs": [
    {
     "name": "stdout",
     "output_type": "stream",
     "text": [
      "Your age is 2 so your not Eligible fo voting.....\n"
     ]
    }
   ],
   "source": [
    "age = int(input(\"Enter your age\"))\n",
    "if age>=18 and age <120:\n",
    "    print(f\"Your age is {age} years so your Eligible fo voting.....\")\n",
    "elif age<=0 or age >120 :\n",
    "    print(f\" You have enter age {age} years and age should be between 18 to 120.Plz Enter a valid age\")   \n",
    "else  :\n",
    "    print(f\"Your age is {age} so your not Eligible fo voting.....\")"
   ]
  },
  {
   "cell_type": "code",
   "execution_count": 29,
   "id": "516c96c2",
   "metadata": {},
   "outputs": [
    {
     "name": "stdout",
     "output_type": "stream",
     "text": [
      " You have enter age 300 years and age should be between 18 to 120.Plz Enter a valid age\n"
     ]
    }
   ],
   "source": [
    "age = int(input(\"Enter your age\"))\n",
    "if age<=0 or age >120:\n",
    "    print(f\" You have enter age {age} years and age should be between 18 to 120.Plz Enter a valid age\")\n",
    "    \n",
    "elif age>=18 :\n",
    "       print(f\"Your age is {age} years so your Eligible fo voting.....\")\n",
    "else  :\n",
    "    print(f\"Your age is {age} so your not Eligible fo voting.....\")"
   ]
  },
  {
   "cell_type": "code",
   "execution_count": 30,
   "id": "4bcecec7",
   "metadata": {},
   "outputs": [
    {
     "name": "stdout",
     "output_type": "stream",
     "text": [
      "z is greatest\n"
     ]
    }
   ],
   "source": [
    "x = int(input(\"enter 1st number.\"))\n",
    "y = int(input(\"enter 1st number.\"))\n",
    "z = int(input(\"enter 1st number.\"))\n",
    "if x>y and x>z:\n",
    "    print(\"x is greatest number\")\n",
    "elif y>x and y>z:\n",
    "    print(\"y is greatest number\")\n",
    "else:\n",
    "    print(\"z is greatest\")        "
   ]
  },
  {
   "cell_type": "code",
   "execution_count": null,
   "id": "da84ab87",
   "metadata": {},
   "outputs": [],
   "source": [
    "#wap to check that give year ie leap or not.\n"
   ]
  },
  {
   "cell_type": "code",
   "execution_count": null,
   "id": "fb6e547d",
   "metadata": {},
   "outputs": [
    {
     "name": "stdout",
     "output_type": "stream",
     "text": [
      "3000 is Leap year\n"
     ]
    }
   ],
   "source": [
    "year = int(input(\"Plz enter year\"))\n",
    "if year/4 :\n",
    "    print(f\"{year} is Leap year\")\n",
    "else :\n",
    "    print(f\"{year} is not Leap year\")    "
   ]
  },
  {
   "cell_type": "code",
   "execution_count": null,
   "id": "69aad61d",
   "metadata": {},
   "outputs": [],
   "source": [
    "#wap to check the year "
   ]
  },
  {
   "cell_type": "code",
   "execution_count": null,
   "id": "8c8c466d",
   "metadata": {},
   "outputs": [],
   "source": [
    "year = int(input(\"Plz enter year\"))\n",
    "if year%400==0  :\n",
    "    print(f\"{year} is Leap year\")\n",
    "else :\n",
    "    print(f\"{year} is not Leap year\") "
   ]
  },
  {
   "cell_type": "markdown",
   "id": "21a526d9",
   "metadata": {},
   "source": [
    "Leap : the year which is divisible by 4 but if this 100%"
   ]
  },
  {
   "cell_type": "code",
   "execution_count": 39,
   "id": "f2027d96",
   "metadata": {},
   "outputs": [
    {
     "name": "stdout",
     "output_type": "stream",
     "text": [
      "2000 is not Leap year\n"
     ]
    }
   ],
   "source": [
    "year = int(input(\"Plz enter year\"))\n",
    "if  year%4==0 and year%100!=0:\n",
    "    print(f\"{year} is Leap year\")\n",
    "else :\n",
    "    print(f\"{year} is not Leap year\") "
   ]
  },
  {
   "cell_type": "code",
   "execution_count": 43,
   "id": "92f5da44",
   "metadata": {},
   "outputs": [
    {
     "name": "stdout",
     "output_type": "stream",
     "text": [
      "1900 is not Leap year\n"
     ]
    }
   ],
   "source": [
    "year = int(input(\"Plz enter year\"))\n",
    "if (year%4==0 and year%100!=0 or year%400==0):\n",
    "    print(f\"{year} is Leap year\")\n",
    "else :\n",
    "    print(f\"{year} is not Leap year\") "
   ]
  },
  {
   "cell_type": "code",
   "execution_count": null,
   "id": "952203ef",
   "metadata": {},
   "outputs": [],
   "source": []
  },
  {
   "cell_type": "code",
   "execution_count": null,
   "id": "bbac7ec3",
   "metadata": {},
   "outputs": [],
   "source": []
  },
  {
   "cell_type": "code",
   "execution_count": 1,
   "id": "157e1bf9",
   "metadata": {},
   "outputs": [
    {
     "name": "stdout",
     "output_type": "stream",
     "text": [
      "23 is odd\n"
     ]
    }
   ],
   "source": [
    "#Determine if a Given Number is Even or Odd\n",
    "x = 23\n",
    "if x%2 == 0:\n",
    "    print(f\"{x} is Even\")\n",
    "else :\n",
    "    print(f\"{x} is odd\")    "
   ]
  },
  {
   "cell_type": "code",
   "execution_count": 2,
   "id": "783e1ced",
   "metadata": {},
   "outputs": [
    {
     "name": "stdout",
     "output_type": "stream",
     "text": [
      "1\n",
      "2\n",
      "3\n",
      "4\n",
      "5\n",
      "6\n",
      "7\n",
      "8\n",
      "9\n",
      "10\n"
     ]
    }
   ],
   "source": [
    "#wap to print 1 to 10.\n",
    "for i in range(1,11):\n",
    "    print(i)"
   ]
  },
  {
   "cell_type": "code",
   "execution_count": 3,
   "id": "507bab29",
   "metadata": {},
   "outputs": [
    {
     "name": "stdout",
     "output_type": "stream",
     "text": [
      "1\n",
      "2\n",
      "3\n",
      "4\n",
      "5\n",
      "6\n",
      "7\n",
      "8\n",
      "9\n",
      "10\n"
     ]
    }
   ],
   "source": [
    "l1 = [1,2,3,4,5,6,7,8,9,10]\n",
    "for i in l1:\n",
    "    print(i)"
   ]
  },
  {
   "cell_type": "code",
   "execution_count": 4,
   "id": "a314b2fd",
   "metadata": {},
   "outputs": [
    {
     "name": "stdout",
     "output_type": "stream",
     "text": [
      "23\n",
      "43\n",
      "32\n",
      "21\n",
      "76\n",
      "43\n",
      "32\n"
     ]
    }
   ],
   "source": [
    "l2 = [23,43,32,21,76,43,32]\n",
    "for i in l2:\n",
    "    print(i)"
   ]
  },
  {
   "cell_type": "code",
   "execution_count": 6,
   "id": "da4daba0",
   "metadata": {},
   "outputs": [
    {
     "name": "stdout",
     "output_type": "stream",
     "text": [
      "2\n",
      "4\n",
      "6\n",
      "8\n",
      "10\n"
     ]
    }
   ],
   "source": [
    "#Wap to print all even elemnetns from given list\n",
    "l1 = [1,2,3,4,5,6,7,8,9,10]\n",
    "for i in l1:\n",
    "    if i%2==0:\n",
    "       print(i) \n",
    "    \n"
   ]
  },
  {
   "cell_type": "code",
   "execution_count": 9,
   "id": "d535d0ea",
   "metadata": {},
   "outputs": [
    {
     "name": "stdout",
     "output_type": "stream",
     "text": [
      "2 4 6 8 10 "
     ]
    }
   ],
   "source": [
    "l1 = [1,2,3,4,5,6,7,8,9,10]\n",
    "for i in l1:\n",
    "    if i%2==0:\n",
    "       print(i,end=\" \") "
   ]
  },
  {
   "cell_type": "code",
   "execution_count": null,
   "id": "8b2779ec",
   "metadata": {},
   "outputs": [
    {
     "name": "stdout",
     "output_type": "stream",
     "text": [
      "[22]\n",
      "[22, 32]\n",
      "[22, 32, 20]\n",
      "[22, 32, 20, 24]\n"
     ]
    }
   ],
   "source": [
    "#Wap to print even numbers list from given list.\n",
    "list1 = [23,43,22,33,32,20,24]#list\n",
    "list2 = [] #empty list store even elemenmts\n",
    "for i in list1: #to itrate over a list\n",
    "    if i%2==0: #to apply cond.\n",
    "        list2.append(i) #append is use to add elements in list2\n",
    "print(list2)       "
   ]
  },
  {
   "cell_type": "code",
   "execution_count": 13,
   "id": "a5e58e40",
   "metadata": {},
   "outputs": [
    {
     "name": "stdout",
     "output_type": "stream",
     "text": [
      "[43, 1, 87, 45]\n"
     ]
    }
   ],
   "source": [
    "list3 = [44,43,2,1,87,100,102,45]\n",
    "list4 = []\n",
    "for i in list3:\n",
    "    if i%2 != 0:\n",
    "        list4.append(i)\n",
    "print(list4)        "
   ]
  },
  {
   "cell_type": "code",
   "execution_count": null,
   "id": "92654c9d",
   "metadata": {},
   "outputs": [],
   "source": [
    "#Wap to assign result(pass/fail) to students from given marks list.\n",
    "marks_Aug = [34,36,20,25,40,45,15,10,44,28,8,18]\n",
    "#o/p \n",
    "#marks2 = [C,C,D,D,B]"
   ]
  },
  {
   "cell_type": "code",
   "execution_count": 21,
   "id": "623674d1",
   "metadata": {},
   "outputs": [
    {
     "name": "stdout",
     "output_type": "stream",
     "text": [
      "pass\n",
      "pass\n",
      "fail\n",
      "fail\n",
      "pass\n",
      "pass\n",
      "fail\n",
      "fail\n",
      "pass\n",
      "fail\n",
      "fail\n",
      "fail\n"
     ]
    }
   ],
   "source": [
    "marks_Aug = [34,36,20,25,40,45,15,10,44,28,8,18]\n",
    "for i in marks_Aug:\n",
    "    if i>=30:\n",
    "        print(\"pass\")\n",
    "    else:\n",
    "        print(\"fail\")\n",
    "        \n",
    "      \n",
    "        "
   ]
  },
  {
   "cell_type": "code",
   "execution_count": 23,
   "id": "e4769d1c",
   "metadata": {},
   "outputs": [
    {
     "name": "stdout",
     "output_type": "stream",
     "text": [
      "[34, 36, 20, 25, 40, 45, 15, 10, 44, 28, 8, 18]\n",
      "This is the list of Pass Students [34, 36, 40, 45, 44]\n",
      "This is the list of Fail Students [20, 25, 15, 10, 28, 8, 18]\n"
     ]
    }
   ],
   "source": [
    "marks_Aug = [34,36,20,25,40,45,15,10,44,28,8,18]\n",
    "pass_Std =[]\n",
    "fail_Std = []\n",
    "for i in marks_Aug:\n",
    "    if i>=30:\n",
    "        pass_Std.append(i)\n",
    "    else:\n",
    "        fail_Std.append(i)\n",
    "print(marks_Aug)\n",
    "print(f\"This is the list of Pass Students {pass_Std}\")\n",
    "print(f\"This is the list of Fail Students {fail_Std}\")            "
   ]
  },
  {
   "cell_type": "code",
   "execution_count": 25,
   "id": "5fbc05f2",
   "metadata": {},
   "outputs": [
    {
     "name": "stdout",
     "output_type": "stream",
     "text": [
      "['Vaishnavi', 'Ankita', 'Sanket']\n"
     ]
    }
   ],
   "source": [
    "#Wap to print strings from given list whose len is greater then 5.\n",
    "Name_july = [\"Vaishnavi\",\"Ankit\",\"Ankita\",\"Sanket\",\"Priya\"]\n",
    "Name = []\n",
    "for i in Name_july:\n",
    "    if len(i) >5 :\n",
    "        Name.append(i)\n",
    "print(Name)        \n"
   ]
  },
  {
   "cell_type": "code",
   "execution_count": 29,
   "id": "ee9e98c3",
   "metadata": {},
   "outputs": [
    {
     "name": "stdout",
     "output_type": "stream",
     "text": [
      "[1, 9, 10, 3, 5, 0, 0, 0]\n"
     ]
    }
   ],
   "source": [
    "list = [1,9,0,10,0,3,0,5]\n",
    "#0/p \n",
    "# = [1,9,10,3,5,0,0,0]\n",
    "list.remove(0)\n",
    "list.remove(0)\n",
    "list.remove(0)\n",
    "list.extend([0,0,0])\n",
    "print(list)"
   ]
  },
  {
   "cell_type": "code",
   "execution_count": null,
   "id": "2633b4bf",
   "metadata": {},
   "outputs": [],
   "source": [
    "list1 = [12,32,43,65,43,32,21]\n",
    "#olp : [32,43,65,43,32]"
   ]
  },
  {
   "cell_type": "code",
   "execution_count": null,
   "id": "dbe37398",
   "metadata": {},
   "outputs": [],
   "source": [
    "list1 = [1,2,3,4,5,6]\n",
    "#o/p :\n",
    "#list = [1,2,3,6,5,4]"
   ]
  }
 ],
 "metadata": {
  "kernelspec": {
   "display_name": "Python 3",
   "language": "python",
   "name": "python3"
  },
  "language_info": {
   "codemirror_mode": {
    "name": "ipython",
    "version": 3
   },
   "file_extension": ".py",
   "mimetype": "text/x-python",
   "name": "python",
   "nbconvert_exporter": "python",
   "pygments_lexer": "ipython3",
   "version": "3.11.9"
  }
 },
 "nbformat": 4,
 "nbformat_minor": 5
}
