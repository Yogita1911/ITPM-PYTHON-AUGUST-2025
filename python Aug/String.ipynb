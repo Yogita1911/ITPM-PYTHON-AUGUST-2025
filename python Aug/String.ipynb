{
 "cells": [
  {
   "cell_type": "markdown",
   "id": "cc27aeab",
   "metadata": {},
   "source": [
    "String :\n",
    "        "
   ]
  },
  {
   "cell_type": "code",
   "execution_count": 2,
   "id": "3463ba55",
   "metadata": {},
   "outputs": [],
   "source": [
    "str1 = 'i am Soham'#create Str\n"
   ]
  },
  {
   "cell_type": "code",
   "execution_count": 5,
   "id": "378d8ff9",
   "metadata": {},
   "outputs": [
    {
     "name": "stdout",
     "output_type": "stream",
     "text": [
      "i am Soham\n",
      "I AM SOHAM\n",
      "i am Soham\n"
     ]
    }
   ],
   "source": [
    "#upper\n",
    "print(str1)\n",
    "print(str1.upper())\n",
    "print(str1)"
   ]
  },
  {
   "cell_type": "code",
   "execution_count": 7,
   "id": "56fc737b",
   "metadata": {},
   "outputs": [
    {
     "name": "stdout",
     "output_type": "stream",
     "text": [
      "HELLO\n",
      "hello\n"
     ]
    }
   ],
   "source": [
    "str2 = \"HELLO\"\n",
    "print(str2)\n",
    "print(str2.lower())"
   ]
  },
  {
   "cell_type": "code",
   "execution_count": 9,
   "id": "4f92bb59",
   "metadata": {},
   "outputs": [
    {
     "name": "stdout",
     "output_type": "stream",
     "text": [
      "Pratik\n"
     ]
    }
   ],
   "source": [
    "str3 = \"pratik\"\n",
    "print(str3.capitalize())"
   ]
  },
  {
   "cell_type": "code",
   "execution_count": 13,
   "id": "fab7262d",
   "metadata": {},
   "outputs": [
    {
     "name": "stdout",
     "output_type": "stream",
     "text": [
      "I like python programming\n"
     ]
    }
   ],
   "source": [
    "str4 = \"i like python programming\"\n",
    "print(str4.capitalize())"
   ]
  },
  {
   "cell_type": "code",
   "execution_count": 14,
   "id": "6c8a2884",
   "metadata": {},
   "outputs": [
    {
     "name": "stdout",
     "output_type": "stream",
     "text": [
      "I Like Python Programming\n"
     ]
    }
   ],
   "source": [
    "print(str4.title())"
   ]
  },
  {
   "cell_type": "code",
   "execution_count": 16,
   "id": "8c705690",
   "metadata": {},
   "outputs": [
    {
     "name": "stdout",
     "output_type": "stream",
     "text": [
      "hi hello\n"
     ]
    }
   ],
   "source": [
    "str1 = \"hi\"\n",
    "str2 = \"hello\"\n",
    "print(str1 + \" \" +str2)"
   ]
  },
  {
   "cell_type": "code",
   "execution_count": 18,
   "id": "2ac7dd46",
   "metadata": {},
   "outputs": [
    {
     "name": "stdout",
     "output_type": "stream",
     "text": [
      "18\n"
     ]
    }
   ],
   "source": [
    "str5 = \"python Programming\"\n",
    "print(len(str5))\n"
   ]
  },
  {
   "cell_type": "code",
   "execution_count": 19,
   "id": "e3d39f18",
   "metadata": {},
   "outputs": [
    {
     "name": "stdout",
     "output_type": "stream",
     "text": [
      "False\n"
     ]
    }
   ],
   "source": [
    "str6 = \" I like C programming\"\n",
    "print(\"python\" in str6)"
   ]
  },
  {
   "cell_type": "code",
   "execution_count": 22,
   "id": "98f26a65",
   "metadata": {},
   "outputs": [
    {
     "name": "stdout",
     "output_type": "stream",
     "text": [
      " I like Python programming\n",
      " I like C programming\n"
     ]
    }
   ],
   "source": [
    "str6 = \" I like C programming\"\n",
    "str7 = str6.replace(\"C\",\"Python\")\n",
    "print(str7)\n",
    "print(str6)"
   ]
  },
  {
   "cell_type": "code",
   "execution_count": 23,
   "id": "8fc0a6de",
   "metadata": {},
   "outputs": [
    {
     "name": "stdout",
     "output_type": "stream",
     "text": [
      "['I', 'like', 'Python', 'programming']\n"
     ]
    }
   ],
   "source": [
    "str8 = \"I like Python programming\"\n",
    "print(str8.split())"
   ]
  },
  {
   "cell_type": "code",
   "execution_count": 25,
   "id": "ec48c5c3",
   "metadata": {},
   "outputs": [
    {
     "name": "stdout",
     "output_type": "stream",
     "text": [
      "l\n",
      "like\n"
     ]
    }
   ],
   "source": [
    "str8 = \"I like Python programming\"\n",
    "print(str8[2])\n",
    "print(str8[2:6])"
   ]
  },
  {
   "cell_type": "code",
   "execution_count": 29,
   "id": "181195d2",
   "metadata": {},
   "outputs": [
    {
     "name": "stdout",
     "output_type": "stream",
     "text": [
      "I\n",
      "l\n",
      "P\n",
      "o\n"
     ]
    }
   ],
   "source": [
    "str8 = \"I like Python programming\"\n",
    "print(str8[0])\n",
    "print(str8[2])\n",
    "print(str8[7])\n",
    "print(str8[11])"
   ]
  },
  {
   "cell_type": "code",
   "execution_count": 32,
   "id": "d802fddf",
   "metadata": {},
   "outputs": [
    {
     "name": "stdout",
     "output_type": "stream",
     "text": [
      "Python\n",
      "programming\n"
     ]
    }
   ],
   "source": [
    "print(str8[7:13])\n",
    "print(str8[14:])"
   ]
  },
  {
   "cell_type": "code",
   "execution_count": 34,
   "id": "77dc370d",
   "metadata": {},
   "outputs": [
    {
     "name": "stdout",
     "output_type": "stream",
     "text": [
      "gnimmargorp nohtyp ekil i \n"
     ]
    }
   ],
   "source": [
    "str8 = \" i like python programming\"\n",
    "print(str8[::-1])"
   ]
  },
  {
   "cell_type": "code",
   "execution_count": null,
   "id": "5e9a026a",
   "metadata": {},
   "outputs": [],
   "source": [
    "str8 = \" i like python programming\"\n",
    "0/p = \"programming python like i \""
   ]
  },
  {
   "cell_type": "markdown",
   "id": "6a0dc520",
   "metadata": {},
   "source": [
    " \" i like python programming\"\n",
    " "
   ]
  },
  {
   "cell_type": "code",
   "execution_count": 6,
   "id": "c849da52",
   "metadata": {},
   "outputs": [
    {
     "name": "stdout",
     "output_type": "stream",
     "text": [
      "['i', 'like', 'python', 'programming']\n",
      "['programming', 'python', 'like', 'i']\n",
      "programming python like i\n"
     ]
    }
   ],
   "source": [
    "str8 = \" i like python programming\"\n",
    "str9 = str8.split()\n",
    "print(str9)\n",
    "str10 = str9[::-1]\n",
    "print(str10)\n",
    "print(\" \".join(str10))\n",
    "\n"
   ]
  },
  {
   "cell_type": "code",
   "execution_count": 8,
   "id": "6c6cd7ef",
   "metadata": {},
   "outputs": [
    {
     "name": "stdout",
     "output_type": "stream",
     "text": [
      "['I', 'am', 'from', 'python', 'aug', 'batch']\n",
      "I am from python aug batch\n"
     ]
    }
   ],
   "source": [
    "str11 = \"I am from python aug batch\"\n",
    "str12 = str11.split()\n",
    "print(str12)\n",
    "print(\" \".join(str12))"
   ]
  },
  {
   "cell_type": "code",
   "execution_count": 9,
   "id": "8b889e1a",
   "metadata": {},
   "outputs": [
    {
     "ename": "TypeError",
     "evalue": "sequence item 0: expected str instance, int found",
     "output_type": "error",
     "traceback": [
      "\u001b[31m---------------------------------------------------------------------------\u001b[39m",
      "\u001b[31mTypeError\u001b[39m                                 Traceback (most recent call last)",
      "\u001b[36mCell\u001b[39m\u001b[36m \u001b[39m\u001b[32mIn[9]\u001b[39m\u001b[32m, line 2\u001b[39m\n\u001b[32m      1\u001b[39m list1 = [ \u001b[32m1\u001b[39m,\u001b[32m2\u001b[39m,\u001b[32m3\u001b[39m,\u001b[32m4\u001b[39m,\u001b[32m5\u001b[39m,\u001b[32m6\u001b[39m,\u001b[32m7\u001b[39m,\u001b[32m8\u001b[39m,\u001b[32m9\u001b[39m,\u001b[32m10\u001b[39m]\n\u001b[32m----> \u001b[39m\u001b[32m2\u001b[39m \u001b[38;5;28mprint\u001b[39m(\u001b[33;43m\"\u001b[39;49m\u001b[33;43m \u001b[39;49m\u001b[33;43m\"\u001b[39;49m\u001b[43m.\u001b[49m\u001b[43mjoin\u001b[49m\u001b[43m(\u001b[49m\u001b[43mlist1\u001b[49m\u001b[43m)\u001b[49m)\n",
      "\u001b[31mTypeError\u001b[39m: sequence item 0: expected str instance, int found"
     ]
    }
   ],
   "source": [
    "list1 = [ 1,2,3,4,5,6,7,8,9,10]\n",
    "print(\" \".join(list1))"
   ]
  },
  {
   "cell_type": "code",
   "execution_count": 10,
   "id": "996b659b",
   "metadata": {},
   "outputs": [
    {
     "name": "stdout",
     "output_type": "stream",
     "text": [
      "Pratik jay tanay\n"
     ]
    }
   ],
   "source": [
    "name = [\"Pratik\",\"jay\",\"tanay\"]\n",
    "print(\" \".join(name))"
   ]
  },
  {
   "cell_type": "code",
   "execution_count": null,
   "id": "ab464159",
   "metadata": {},
   "outputs": [],
   "source": [
    "list = [\"i\",\"like\",\"python\"]\n",
    "#olp : I Like Python"
   ]
  },
  {
   "cell_type": "code",
   "execution_count": 14,
   "id": "5f06a7fb",
   "metadata": {},
   "outputs": [
    {
     "name": "stdout",
     "output_type": "stream",
     "text": [
      "python python python python python python python python python python \n"
     ]
    }
   ],
   "source": [
    "str13 = \"python\"\n",
    "print((str13 + \" \" )*10)"
   ]
  },
  {
   "cell_type": "code",
   "execution_count": 16,
   "id": "37744ad5",
   "metadata": {},
   "outputs": [
    {
     "name": "stdout",
     "output_type": "stream",
     "text": [
      "hi\n"
     ]
    }
   ],
   "source": [
    "str14 = \"           hi \"\n",
    "print(str14.strip())"
   ]
  },
  {
   "cell_type": "code",
   "execution_count": 17,
   "id": "35296bc2",
   "metadata": {},
   "outputs": [
    {
     "name": "stdout",
     "output_type": "stream",
     "text": [
      "hi hello\n"
     ]
    }
   ],
   "source": [
    "str15 = \"      hi hello\"\n",
    "print(str15.strip())"
   ]
  },
  {
   "cell_type": "code",
   "execution_count": 18,
   "id": "44345f75",
   "metadata": {},
   "outputs": [
    {
     "name": "stdout",
     "output_type": "stream",
     "text": [
      "hello             hi\n"
     ]
    }
   ],
   "source": [
    "str17 = \"                hello             hi\"\n",
    "print(str17.strip())"
   ]
  },
  {
   "cell_type": "code",
   "execution_count": 20,
   "id": "240b7e5c",
   "metadata": {},
   "outputs": [
    {
     "name": "stdout",
     "output_type": "stream",
     "text": [
      "learning python\n",
      " nohtyp gninrael\n"
     ]
    }
   ],
   "source": [
    "str18 = \" i am learning python from itp\"\n",
    "print(str18[6:21])\n",
    "print(str18[21:5:-1])"
   ]
  },
  {
   "cell_type": "code",
   "execution_count": 27,
   "id": "a38a1e7e",
   "metadata": {},
   "outputs": [
    {
     "name": "stdout",
     "output_type": "stream",
     "text": [
      " i am learning python from itp\n",
      "python learning\n"
     ]
    }
   ],
   "source": [
    "print(str18)\n",
    "str19 = str18.split()\n",
    "str20 = str19[2:4]\n",
    "#print(str20)\n",
    "str21 = str20[::-1]\n",
    "print(\" \".join(str21))"
   ]
  }
 ],
 "metadata": {
  "kernelspec": {
   "display_name": "Python 3",
   "language": "python",
   "name": "python3"
  },
  "language_info": {
   "codemirror_mode": {
    "name": "ipython",
    "version": 3
   },
   "file_extension": ".py",
   "mimetype": "text/x-python",
   "name": "python",
   "nbconvert_exporter": "python",
   "pygments_lexer": "ipython3",
   "version": "3.11.9"
  }
 },
 "nbformat": 4,
 "nbformat_minor": 5
}
