{
 "cells": [
  {
   "cell_type": "markdown",
   "id": "90659055",
   "metadata": {},
   "source": [
    "List :\n",
    "       List is a collection of different types of elements , which are odered in nature,they are mutable in nature.\n",
    "\n",
    "List:\n",
    "1.append\n",
    "2.Extend\n",
    "3.Insert\n",
    "4.Pop\n",
    "5.Remove\n",
    "6.clear\n",
    "7.min\n",
    "8.Max\n",
    "9.Sort\n",
    "10.sorted\n",
    "11.len\n",
    "12.count\n",
    "13.sort(reverse)\n",
    "14.del\n",
    "15.in\n",
    "\n",
    "      "
   ]
  },
  {
   "cell_type": "code",
   "execution_count": null,
   "id": "e1b31fe1",
   "metadata": {},
   "outputs": [],
   "source": []
  },
  {
   "cell_type": "code",
   "execution_count": 1,
   "id": "ecf9b449",
   "metadata": {},
   "outputs": [
    {
     "name": "stdout",
     "output_type": "stream",
     "text": [
      "[1, 2, 3, 4, 5]\n"
     ]
    }
   ],
   "source": [
    "#create List\n",
    "L1 = [1,2,3,4,5]\n",
    "print(L1)\n"
   ]
  },
  {
   "cell_type": "code",
   "execution_count": null,
   "id": "8d0a8ef4",
   "metadata": {},
   "outputs": [
    {
     "name": "stdout",
     "output_type": "stream",
     "text": [
      "[1, 2, 3, 4, 5, 6]\n"
     ]
    }
   ],
   "source": [
    "#2.append:Add Single elements at a time.\n",
    "L1 = [1,2,3,4,5]\n",
    "L1.append(6)\n",
    "print(L1)"
   ]
  },
  {
   "cell_type": "code",
   "execution_count": 3,
   "id": "82c35c6f",
   "metadata": {},
   "outputs": [
    {
     "ename": "TypeError",
     "evalue": "list.append() takes exactly one argument (2 given)",
     "output_type": "error",
     "traceback": [
      "\u001b[31m---------------------------------------------------------------------------\u001b[39m",
      "\u001b[31mTypeError\u001b[39m                                 Traceback (most recent call last)",
      "\u001b[36mCell\u001b[39m\u001b[36m \u001b[39m\u001b[32mIn[3]\u001b[39m\u001b[32m, line 1\u001b[39m\n\u001b[32m----> \u001b[39m\u001b[32m1\u001b[39m \u001b[43mL1\u001b[49m\u001b[43m.\u001b[49m\u001b[43mappend\u001b[49m\u001b[43m(\u001b[49m\u001b[32;43m7\u001b[39;49m\u001b[43m,\u001b[49m\u001b[32;43m8\u001b[39;49m\u001b[43m)\u001b[49m\n\u001b[32m      2\u001b[39m \u001b[38;5;28mprint\u001b[39m(L1)\n",
      "\u001b[31mTypeError\u001b[39m: list.append() takes exactly one argument (2 given)"
     ]
    }
   ],
   "source": [
    "L1.append(7,8)\n",
    "print(L1)"
   ]
  },
  {
   "cell_type": "code",
   "execution_count": 5,
   "id": "78e86b3e",
   "metadata": {},
   "outputs": [
    {
     "name": "stdout",
     "output_type": "stream",
     "text": [
      "[1, 2, 3, 4, 5, 6, 7]\n"
     ]
    }
   ],
   "source": [
    "#3.Extend: to add multiple elements.\n",
    "L2 = [1,2,3,4,5]\n",
    "L2.extend([6,7])\n",
    "print(L2)"
   ]
  },
  {
   "cell_type": "code",
   "execution_count": 8,
   "id": "ba8a5dcc",
   "metadata": {},
   "outputs": [
    {
     "name": "stdout",
     "output_type": "stream",
     "text": [
      "[1, 2, 3, 4, 5, 6]\n"
     ]
    }
   ],
   "source": [
    "#4.Insert: To add element at specific position.\n",
    "L3 = [1,2,4,5,6]\n",
    "#     0 1 2 3 4\n",
    "L3.insert(2,3)\n",
    "print(L3)"
   ]
  },
  {
   "cell_type": "code",
   "execution_count": null,
   "id": "285f5b4e",
   "metadata": {},
   "outputs": [
    {
     "name": "stdout",
     "output_type": "stream",
     "text": [
      "[1, 2, 3, 4, 5]\n"
     ]
    }
   ],
   "source": [
    "#4.pop()\n",
    "L3=[1,2,3,4,5,10]\n",
    "L3.pop()\n",
    "print(L3)"
   ]
  },
  {
   "cell_type": "code",
   "execution_count": null,
   "id": "ed5eeb92",
   "metadata": {},
   "outputs": [
    {
     "name": "stdout",
     "output_type": "stream",
     "text": [
      "[1, 2, 3, 4, 5]\n"
     ]
    }
   ],
   "source": [
    "#remove\n",
    "L4 = [1,2,10,3,4,5]\n",
    "L4.remove(10)\n",
    "print(L4)"
   ]
  },
  {
   "cell_type": "code",
   "execution_count": 11,
   "id": "3fc02795",
   "metadata": {},
   "outputs": [
    {
     "name": "stdout",
     "output_type": "stream",
     "text": [
      "[1, 3, 4, 5]\n"
     ]
    }
   ],
   "source": [
    "L4.remove(2)\n",
    "print(L4)"
   ]
  },
  {
   "cell_type": "code",
   "execution_count": 14,
   "id": "ed2065e4",
   "metadata": {},
   "outputs": [
    {
     "name": "stdout",
     "output_type": "stream",
     "text": [
      "[1, 2, 3, 5, 6]\n"
     ]
    }
   ],
   "source": [
    "L1 = [1,2,3,4,5,6]\n",
    "L1.pop(3)\n",
    "print(L1)"
   ]
  },
  {
   "cell_type": "code",
   "execution_count": 15,
   "id": "b28a55d9",
   "metadata": {},
   "outputs": [
    {
     "name": "stdout",
     "output_type": "stream",
     "text": [
      "['Banana', 'Mango']\n"
     ]
    }
   ],
   "source": [
    "L1 = [\"Banana\",\"Mango\",\"apple\"]\n",
    "L1.pop(2)\n",
    "print(L1)"
   ]
  },
  {
   "cell_type": "code",
   "execution_count": 16,
   "id": "4176ff74",
   "metadata": {},
   "outputs": [
    {
     "data": {
      "text/plain": [
       "['Mango', 'apple']"
      ]
     },
     "execution_count": 16,
     "metadata": {},
     "output_type": "execute_result"
    }
   ],
   "source": [
    "L1 = [\"Banana\",\"Mango\",\"apple\"]\n",
    "L1.remove(\"Banana\")\n",
    "L1"
   ]
  },
  {
   "cell_type": "code",
   "execution_count": 17,
   "id": "c1dc2d94",
   "metadata": {},
   "outputs": [
    {
     "data": {
      "text/plain": [
       "[]"
      ]
     },
     "execution_count": 17,
     "metadata": {},
     "output_type": "execute_result"
    }
   ],
   "source": [
    "#Clear:remove all elements from list at a time.\n",
    "L5 = [12,43,32,54,65]\n",
    "L5.clear()\n",
    "L5\n"
   ]
  },
  {
   "cell_type": "markdown",
   "id": "507390af",
   "metadata": {},
   "source": [
    "Wap to remove multiple elements at a time in list."
   ]
  },
  {
   "cell_type": "code",
   "execution_count": null,
   "id": "fdcd4e8a",
   "metadata": {},
   "outputs": [
    {
     "data": {
      "text/plain": [
       "4"
      ]
     },
     "execution_count": 19,
     "metadata": {},
     "output_type": "execute_result"
    }
   ],
   "source": [
    "#count: use to count specific elements\n",
    "marks = [23,45,43,65,45,43,22,43,43]\n",
    "marks.count(43)\n",
    "\n"
   ]
  },
  {
   "cell_type": "code",
   "execution_count": 21,
   "id": "74c7d99c",
   "metadata": {},
   "outputs": [
    {
     "data": {
      "text/plain": [
       "9"
      ]
     },
     "execution_count": 21,
     "metadata": {},
     "output_type": "execute_result"
    }
   ],
   "source": [
    "marks = [23,45,43,65,45,43,22,43,43]\n",
    "len(marks)"
   ]
  },
  {
   "cell_type": "code",
   "execution_count": 22,
   "id": "c6db689f",
   "metadata": {},
   "outputs": [
    {
     "data": {
      "text/plain": [
       "65"
      ]
     },
     "execution_count": 22,
     "metadata": {},
     "output_type": "execute_result"
    }
   ],
   "source": [
    "marks = [23,45,43,65,45,43,22,43,43]\n",
    "max(marks)"
   ]
  },
  {
   "cell_type": "code",
   "execution_count": 23,
   "id": "3ffcef4b",
   "metadata": {},
   "outputs": [
    {
     "data": {
      "text/plain": [
       "22"
      ]
     },
     "execution_count": 23,
     "metadata": {},
     "output_type": "execute_result"
    }
   ],
   "source": [
    "marks = [23,45,43,65,45,43,22,43,43]\n",
    "min(marks)"
   ]
  },
  {
   "cell_type": "code",
   "execution_count": 27,
   "id": "a6c75ebb",
   "metadata": {},
   "outputs": [
    {
     "name": "stdout",
     "output_type": "stream",
     "text": [
      "[22, 23, 43, 43, 43, 43, 45, 45, 65]\n"
     ]
    }
   ],
   "source": [
    "marks = [23,45,43,65,45,43,22,43,43]\n",
    "marks.sort()\n",
    "print(marks)\n"
   ]
  },
  {
   "cell_type": "code",
   "execution_count": 32,
   "id": "fd6a5464",
   "metadata": {},
   "outputs": [
    {
     "data": {
      "text/plain": [
       "[65, 45, 45, 43, 43, 43, 43, 23, 22]"
      ]
     },
     "execution_count": 32,
     "metadata": {},
     "output_type": "execute_result"
    }
   ],
   "source": [
    "marks = [23,45,43,65,45,43,22,43,43]\n",
    "marks.sort(reverse=True)\n",
    "marks"
   ]
  },
  {
   "cell_type": "code",
   "execution_count": 35,
   "id": "ea811146",
   "metadata": {},
   "outputs": [
    {
     "name": "stdout",
     "output_type": "stream",
     "text": [
      "[23, 45, 43, 65, 45, 43, 22, 43, 43]\n",
      "[22, 23, 43, 43, 43, 43, 45, 45, 65]\n",
      "[23, 45, 43, 65, 45, 43, 22, 43, 43]\n"
     ]
    }
   ],
   "source": [
    "marks = [23,45,43,65,45,43,22,43,43]\n",
    "print(marks)\n",
    "sorted_marks = sorted(marks)\n",
    "print(sorted_marks)\n",
    "print(marks)"
   ]
  },
  {
   "cell_type": "code",
   "execution_count": 1,
   "id": "c8941ca0",
   "metadata": {},
   "outputs": [
    {
     "data": {
      "text/plain": [
       "[1, 2, 4, 5, 6]"
      ]
     },
     "execution_count": 1,
     "metadata": {},
     "output_type": "execute_result"
    }
   ],
   "source": [
    "L1 = [1,2,3,4,5,6]\n",
    "L1.remove(3)\n",
    "L1"
   ]
  },
  {
   "cell_type": "code",
   "execution_count": 3,
   "id": "e3d60bbc",
   "metadata": {},
   "outputs": [
    {
     "name": "stdout",
     "output_type": "stream",
     "text": [
      "[1, 2, 3, 4, 5]\n"
     ]
    },
    {
     "ename": "NameError",
     "evalue": "name 'L1' is not defined",
     "output_type": "error",
     "traceback": [
      "\u001b[31m---------------------------------------------------------------------------\u001b[39m",
      "\u001b[31mNameError\u001b[39m                                 Traceback (most recent call last)",
      "\u001b[36mCell\u001b[39m\u001b[36m \u001b[39m\u001b[32mIn[3]\u001b[39m\u001b[32m, line 4\u001b[39m\n\u001b[32m      2\u001b[39m \u001b[38;5;28mprint\u001b[39m(L1)\n\u001b[32m      3\u001b[39m \u001b[38;5;28;01mdel\u001b[39;00m L1\n\u001b[32m----> \u001b[39m\u001b[32m4\u001b[39m \u001b[38;5;28mprint\u001b[39m(\u001b[43mL1\u001b[49m)\n",
      "\u001b[31mNameError\u001b[39m: name 'L1' is not defined"
     ]
    }
   ],
   "source": [
    "L1 = [1,2,3,4,5]\n",
    "print(L1)\n",
    "del L1\n",
    "print(L1)"
   ]
  },
  {
   "cell_type": "code",
   "execution_count": 2,
   "id": "67071c63",
   "metadata": {},
   "outputs": [
    {
     "data": {
      "text/plain": [
       "[1, 5, 6]"
      ]
     },
     "execution_count": 2,
     "metadata": {},
     "output_type": "execute_result"
    }
   ],
   "source": [
    "#remove multiple elements from list.\n",
    "del L1[1:3]\n",
    "L1"
   ]
  },
  {
   "cell_type": "code",
   "execution_count": null,
   "id": "45ca3210",
   "metadata": {},
   "outputs": [
    {
     "name": "stdout",
     "output_type": "stream",
     "text": [
      "[]\n"
     ]
    }
   ],
   "source": [
    "#Clear:will remove all elements from the list but not Stru.\n",
    "Fruits = [\"Apple\",\"Mango\",\"banana\",\"Graphs\"]\n",
    "Fruits.clear()\n",
    "print(Fruits)\n"
   ]
  },
  {
   "cell_type": "code",
   "execution_count": 7,
   "id": "506e2d13",
   "metadata": {},
   "outputs": [
    {
     "name": "stdout",
     "output_type": "stream",
     "text": [
      "[1, 2, 3, 4, 5]\n"
     ]
    }
   ],
   "source": [
    "L11 = [1,2,3,4,5]\n",
    "print(L11)"
   ]
  },
  {
   "cell_type": "code",
   "execution_count": 8,
   "id": "06f0ec8b",
   "metadata": {},
   "outputs": [],
   "source": [
    "del L11"
   ]
  },
  {
   "cell_type": "code",
   "execution_count": 9,
   "id": "f9df397f",
   "metadata": {},
   "outputs": [
    {
     "ename": "NameError",
     "evalue": "name 'L11' is not defined",
     "output_type": "error",
     "traceback": [
      "\u001b[31m---------------------------------------------------------------------------\u001b[39m",
      "\u001b[31mNameError\u001b[39m                                 Traceback (most recent call last)",
      "\u001b[36mCell\u001b[39m\u001b[36m \u001b[39m\u001b[32mIn[9]\u001b[39m\u001b[32m, line 1\u001b[39m\n\u001b[32m----> \u001b[39m\u001b[32m1\u001b[39m \u001b[38;5;28mprint\u001b[39m(\u001b[43mL11\u001b[49m)\n",
      "\u001b[31mNameError\u001b[39m: name 'L11' is not defined"
     ]
    }
   ],
   "source": [
    "print(L11)"
   ]
  },
  {
   "cell_type": "code",
   "execution_count": null,
   "id": "4dd0dc60",
   "metadata": {},
   "outputs": [
    {
     "name": "stdout",
     "output_type": "stream",
     "text": [
      "True\n"
     ]
    }
   ],
   "source": [
    "#Assessing elements:Checking for elementsin list.\n",
    "L12 = [1,2,3,4,5]\n",
    "print(4 in L12)"
   ]
  },
  {
   "cell_type": "code",
   "execution_count": 11,
   "id": "6e28ce43",
   "metadata": {},
   "outputs": [
    {
     "name": "stdout",
     "output_type": "stream",
     "text": [
      "False\n"
     ]
    }
   ],
   "source": [
    "List1 = [23,43,54,32,12,76]\n",
    "print(55 in List1)"
   ]
  },
  {
   "cell_type": "code",
   "execution_count": null,
   "id": "8df4dc0e",
   "metadata": {},
   "outputs": [],
   "source": []
  },
  {
   "cell_type": "code",
   "execution_count": 12,
   "id": "cd312f93",
   "metadata": {},
   "outputs": [
    {
     "name": "stdout",
     "output_type": "stream",
     "text": [
      "[1, 2, 3, 4, 5, 6, 7, 8, 9, 10]\n"
     ]
    }
   ],
   "source": [
    "List3 = [1,2,3,4,5]\n",
    "List4 = [6,7,8,9,10]\n",
    "print(List3 + List4)"
   ]
  },
  {
   "cell_type": "code",
   "execution_count": 13,
   "id": "8751bc42",
   "metadata": {},
   "outputs": [
    {
     "name": "stdout",
     "output_type": "stream",
     "text": [
      "[54, 43, 32, 65, 76, 54, 43, 32, 65, 76, 54, 43, 32, 65, 76]\n"
     ]
    }
   ],
   "source": [
    "List5 = [54,43,32,65,76]\n",
    "print(List5*3)"
   ]
  },
  {
   "cell_type": "code",
   "execution_count": 14,
   "id": "61b5b531",
   "metadata": {},
   "outputs": [
    {
     "name": "stdout",
     "output_type": "stream",
     "text": [
      "[5, 4, 3, 2, 1]\n"
     ]
    }
   ],
   "source": [
    "List = [1,2,3,4,5]\n",
    "List.reverse()\n",
    "print(List)"
   ]
  },
  {
   "cell_type": "code",
   "execution_count": null,
   "id": "fd6f853e",
   "metadata": {},
   "outputs": [
    {
     "name": "stdout",
     "output_type": "stream",
     "text": [
      "[1, 2, 3, 4, 5, 6, 7]\n",
      "1\n",
      "4\n"
     ]
    }
   ],
   "source": [
    "#Indexing\n",
    "List1 = [1,2,3,4,5,6,7]\n",
    "print(List1)\n",
    "print(List1[0])\n",
    "print(List1[3])"
   ]
  },
  {
   "cell_type": "code",
   "execution_count": null,
   "id": "ef40af72",
   "metadata": {},
   "outputs": [
    {
     "name": "stdout",
     "output_type": "stream",
     "text": [
      "15\n",
      "15\n"
     ]
    }
   ],
   "source": [
    "List6 = [1,2,3,4,5,6,7,8,9,10,11,12,13,14,15]\n",
    "print(List6[14])#positive index\n",
    "print(List6[-1])#negative index"
   ]
  },
  {
   "cell_type": "code",
   "execution_count": 20,
   "id": "d13c6487",
   "metadata": {},
   "outputs": [
    {
     "name": "stdout",
     "output_type": "stream",
     "text": [
      "11\n",
      "11\n"
     ]
    }
   ],
   "source": [
    "print(List6[10])\n",
    "print(List6[-5])"
   ]
  },
  {
   "cell_type": "code",
   "execution_count": null,
   "id": "c2b8a304",
   "metadata": {},
   "outputs": [],
   "source": []
  },
  {
   "cell_type": "markdown",
   "id": "cc1f76cd",
   "metadata": {},
   "source": [
    "Indexing in List"
   ]
  },
  {
   "cell_type": "code",
   "execution_count": 1,
   "id": "3ae57df8",
   "metadata": {},
   "outputs": [
    {
     "name": "stdout",
     "output_type": "stream",
     "text": [
      "6\n"
     ]
    }
   ],
   "source": [
    "l1 = [1,2,3,4,5,6,7,8]\n",
    "print(l1[5])\n"
   ]
  },
  {
   "cell_type": "code",
   "execution_count": null,
   "id": "0f79510b",
   "metadata": {},
   "outputs": [
    {
     "name": "stdout",
     "output_type": "stream",
     "text": [
      "[3, 4, 5, 6]\n"
     ]
    }
   ],
   "source": [
    "l1 = [1,2,3,4,5,6,7,8,9,10]\n",
    "#l1 [start : Stop : step]\n",
    "print(l1[2:6])"
   ]
  },
  {
   "cell_type": "code",
   "execution_count": 5,
   "id": "3afb4c6b",
   "metadata": {},
   "outputs": [
    {
     "name": "stdout",
     "output_type": "stream",
     "text": [
      "[23, 54, 65]\n",
      "[23, 54, 65]\n",
      "[21, 65, 76, 87]\n"
     ]
    }
   ],
   "source": [
    "l1 =[23,54,65,32,21,65,76,87]\n",
    "print(l1[0:3])\n",
    "print(l1[:3])\n",
    "print(l1[4:])"
   ]
  },
  {
   "cell_type": "code",
   "execution_count": 8,
   "id": "cff4a9b6",
   "metadata": {},
   "outputs": [
    {
     "name": "stdout",
     "output_type": "stream",
     "text": [
      "[1, 2, 3, 4, 5, 6]\n",
      "[1, 2, 3, 4]\n",
      "[1, 3]\n"
     ]
    }
   ],
   "source": [
    "l5 = [1,2,3,4,5,6]\n",
    "print(l5[:])\n",
    "print(l5[0:4])\n",
    "print(l5[0:4:2])"
   ]
  },
  {
   "cell_type": "code",
   "execution_count": 10,
   "id": "7ec10bcd",
   "metadata": {},
   "outputs": [
    {
     "name": "stdout",
     "output_type": "stream",
     "text": [
      "['Jay', 'Tanay', 'Pratik']\n",
      "['Jay', 'Sushrut']\n"
     ]
    }
   ],
   "source": [
    "name = [\"Jay\",\"kiran\",\"Tanay\",\"Sushrut\",\"Pratik\",\"Harshad\"]\n",
    "print(name[::2])\n",
    "print(name[0:4:3] )"
   ]
  },
  {
   "cell_type": "code",
   "execution_count": 13,
   "id": "1f61d16a",
   "metadata": {},
   "outputs": [
    {
     "name": "stdout",
     "output_type": "stream",
     "text": [
      "[4, 7, 10, 13]\n"
     ]
    }
   ],
   "source": [
    "l1 = [1,2,3,4,5,6,7,8,9,10,11,12,13,14,15,16]\n",
    "#4,7,10,13\n",
    "print(l1[3:14:3])"
   ]
  },
  {
   "cell_type": "code",
   "execution_count": 16,
   "id": "4e044255",
   "metadata": {},
   "outputs": [
    {
     "name": "stdout",
     "output_type": "stream",
     "text": [
      "[16, 15, 14, 13, 12, 11, 10, 9, 8, 7, 6, 5, 4, 3, 2, 1]\n",
      "[1, 2, 3, 4, 5, 6, 7, 8, 9, 10, 11, 12, 13, 14, 15, 16]\n"
     ]
    }
   ],
   "source": [
    "l1 = [1,2,3,4,5,6,7,8,9,10,11,12,13,14,15,16]\n",
    "print(l1[::-1])\n",
    "print(l1[::1])"
   ]
  },
  {
   "cell_type": "code",
   "execution_count": null,
   "id": "9e0030c3",
   "metadata": {},
   "outputs": [
    {
     "name": "stdout",
     "output_type": "stream",
     "text": [
      "[65, 43, 21, 54, 43, 23]\n",
      "[]\n"
     ]
    }
   ],
   "source": [
    "#WAp to print given list in reverse order without using built-in fun.\n",
    "list1 = [23,43,54,21,43,65]\n",
    "print(list1[5::-1])\n"
   ]
  },
  {
   "cell_type": "markdown",
   "id": "cba2e4b0",
   "metadata": {},
   "source": [
    "Multi -Dim"
   ]
  },
  {
   "cell_type": "code",
   "execution_count": 25,
   "id": "c8f360b5",
   "metadata": {},
   "outputs": [
    {
     "name": "stdout",
     "output_type": "stream",
     "text": [
      "[4, 5, 6]\n"
     ]
    }
   ],
   "source": [
    "l1 = [1,2,3,[4,5,6],8,9,10]\n",
    "#.... 0,1,2,3......,4,5,6\n",
    "print(l1[3])\n"
   ]
  },
  {
   "cell_type": "code",
   "execution_count": 28,
   "id": "45a46803",
   "metadata": {},
   "outputs": [
    {
     "name": "stdout",
     "output_type": "stream",
     "text": [
      "[4, [5, 6, 7], 8]\n",
      "[5, 6, 7]\n",
      "6\n"
     ]
    }
   ],
   "source": [
    "l2 = [1,2,3,[4,[5,6,7],8],9,10]\n",
    "#     0,1,2,3............,4,5\n",
    "#            0,1,....2\n",
    "#                0,1,2  \n",
    "print(l2[3])\n",
    "print(l2[3][1])\n",
    "print(l2[3][1][1])\n"
   ]
  },
  {
   "cell_type": "code",
   "execution_count": null,
   "id": "ee09454f",
   "metadata": {},
   "outputs": [
    {
     "name": "stdout",
     "output_type": "stream",
     "text": [
      "Pratik\n"
     ]
    }
   ],
   "source": [
    "list7 = [1,2,3,[4,5,6,[\"I\",\"am\",[7,8,\"Pratik\"],9,10],11,12],13]\n",
    "#olp...pratik,8,7,am,i\n",
    "print(list7[3][3][2][2])"
   ]
  },
  {
   "cell_type": "code",
   "execution_count": 3,
   "id": "4eee43ed",
   "metadata": {},
   "outputs": [
    {
     "name": "stdout",
     "output_type": "stream",
     "text": [
      "[4, 5, 6, [7, 8], 9, 10]\n",
      "[7, 8]\n",
      "8\n"
     ]
    }
   ],
   "source": [
    "l1 = [1,2,3,[4,5,6,[7,8],9,10],11,12]\n",
    "#olp 7,8\n",
    "#....[0,1,2,3.................,4,5]\n",
    "#....[0,1,2,3..\n",
    "#             0,1,2,3..,4,5]\n",
    "#....................[0,1]\n",
    "print(l1[3])\n",
    "print(l1[3][3])\n",
    "print(l1[3][3][1])"
   ]
  },
  {
   "cell_type": "code",
   "execution_count": 5,
   "id": "289bc493",
   "metadata": {},
   "outputs": [
    {
     "name": "stdout",
     "output_type": "stream",
     "text": [
      "2025\n"
     ]
    }
   ],
   "source": [
    "l2 = [\"I\",\"am\",[1,2,3,[\"Python\",\"Programming\",[\"Aug\",2025,20]],4,5,6,7,8]]\n",
    "print(l2[2][3][2][1])"
   ]
  },
  {
   "cell_type": "code",
   "execution_count": 10,
   "id": "bab969fe",
   "metadata": {},
   "outputs": [
    {
     "name": "stdout",
     "output_type": "stream",
     "text": [
      "[1, 2, 3, ['Python', 'Programming', ['Aug', 2025, 20]], 4, 5]\n"
     ]
    }
   ],
   "source": [
    "l2 = [\"I\",\"am\",[1,2,3,[\"Python\",\"Programming\",[\"Aug\",2025,20]],4,5,6,7,8]]\n",
    "print(l2[2][0:6])"
   ]
  },
  {
   "cell_type": "code",
   "execution_count": 17,
   "id": "8e3e4c11",
   "metadata": {},
   "outputs": [
    {
     "name": "stdout",
     "output_type": "stream",
     "text": [
      "[4, 5, 6]\n",
      "[6, 5, 4]\n",
      "[12, 11, 10]\n"
     ]
    }
   ],
   "source": [
    "l3 = [1,2,3,[4,5,6],7,8,9,[10,11,12]]\n",
    "print(l3[3])\n",
    "print(l3[3][::-1])\n",
    "print(l3[7][::-1])\n"
   ]
  }
 ],
 "metadata": {
  "kernelspec": {
   "display_name": "Python 3",
   "language": "python",
   "name": "python3"
  },
  "language_info": {
   "codemirror_mode": {
    "name": "ipython",
    "version": 3
   },
   "file_extension": ".py",
   "mimetype": "text/x-python",
   "name": "python",
   "nbconvert_exporter": "python",
   "pygments_lexer": "ipython3",
   "version": "3.11.9"
  }
 },
 "nbformat": 4,
 "nbformat_minor": 5
}
