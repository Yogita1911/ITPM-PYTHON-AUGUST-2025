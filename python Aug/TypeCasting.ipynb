{
 "cells": [
  {
   "cell_type": "code",
   "execution_count": 39,
   "id": "b0d206a0",
   "metadata": {},
   "outputs": [
    {
     "ename": "TypeError",
     "evalue": "can only concatenate str (not \"int\") to str",
     "output_type": "error",
     "traceback": [
      "\u001b[31m---------------------------------------------------------------------------\u001b[39m",
      "\u001b[31mTypeError\u001b[39m                                 Traceback (most recent call last)",
      "\u001b[36mCell\u001b[39m\u001b[36m \u001b[39m\u001b[32mIn[39]\u001b[39m\u001b[32m, line 3\u001b[39m\n\u001b[32m      1\u001b[39m Name = \u001b[33m\"\u001b[39m\u001b[33mParth\u001b[39m\u001b[33m\"\u001b[39m \n\u001b[32m      2\u001b[39m Age = \u001b[32m22\u001b[39m\n\u001b[32m----> \u001b[39m\u001b[32m3\u001b[39m \u001b[38;5;28mprint\u001b[39m(\u001b[43mName\u001b[49m\u001b[43m+\u001b[49m\u001b[43mAge\u001b[49m)\n",
      "\u001b[31mTypeError\u001b[39m: can only concatenate str (not \"int\") to str"
     ]
    }
   ],
   "source": [
    "Name = \"Parth\" \n",
    "Age = 22\n",
    "print(Name+Age)"
   ]
  },
  {
   "cell_type": "code",
   "execution_count": 40,
   "id": "6946116e",
   "metadata": {},
   "outputs": [
    {
     "name": "stdout",
     "output_type": "stream",
     "text": [
      "Parth22\n"
     ]
    }
   ],
   "source": [
    "Name = \"Parth\" \n",
    "Age = 22\n",
    "print(Name+str(Age))"
   ]
  },
  {
   "cell_type": "code",
   "execution_count": 4,
   "id": "ad3c1877",
   "metadata": {},
   "outputs": [
    {
     "name": "stdout",
     "output_type": "stream",
     "text": [
      "4.3\n"
     ]
    }
   ],
   "source": [
    "a = 2\n",
    "b = 2.3\n",
    "print(a+b)"
   ]
  },
  {
   "cell_type": "markdown",
   "id": "83e3c47c",
   "metadata": {},
   "source": []
  },
  {
   "cell_type": "markdown",
   "id": "8e264856",
   "metadata": {},
   "source": [
    "Type of Type-Casting \n",
    "1.Explicit TypeCasting\n",
    "    1.int to float\n",
    "    2.int to string\n",
    " "
   ]
  },
  {
   "cell_type": "code",
   "execution_count": 6,
   "id": "455a4d7c",
   "metadata": {},
   "outputs": [
    {
     "name": "stdout",
     "output_type": "stream",
     "text": [
      "23.0\n",
      "<class 'float'>\n",
      "23\n"
     ]
    }
   ],
   "source": [
    "#1.int to float\n",
    "x = 23\n",
    "y = float(x)\n",
    "print(y)\n",
    "print(type(y))\n",
    "print(x)\n"
   ]
  },
  {
   "cell_type": "code",
   "execution_count": 8,
   "id": "981b4eca",
   "metadata": {},
   "outputs": [
    {
     "name": "stdout",
     "output_type": "stream",
     "text": [
      "23\n",
      "<class 'str'>\n"
     ]
    }
   ],
   "source": [
    "#2.int to String\n",
    "x = 23\n",
    "y = str(x)\n",
    "print(y)\n",
    "print(type(y))"
   ]
  },
  {
   "cell_type": "code",
   "execution_count": 9,
   "id": "5c71fd1a",
   "metadata": {},
   "outputs": [
    {
     "ename": "TypeError",
     "evalue": "'int' object is not iterable",
     "output_type": "error",
     "traceback": [
      "\u001b[31m---------------------------------------------------------------------------\u001b[39m",
      "\u001b[31mTypeError\u001b[39m                                 Traceback (most recent call last)",
      "\u001b[36mCell\u001b[39m\u001b[36m \u001b[39m\u001b[32mIn[9]\u001b[39m\u001b[32m, line 3\u001b[39m\n\u001b[32m      1\u001b[39m \u001b[38;5;66;03m#3.int to list.\u001b[39;00m\n\u001b[32m      2\u001b[39m x= \u001b[32m56\u001b[39m\n\u001b[32m----> \u001b[39m\u001b[32m3\u001b[39m l1 = \u001b[38;5;28;43mlist\u001b[39;49m\u001b[43m(\u001b[49m\u001b[43mx\u001b[49m\u001b[43m)\u001b[49m\n\u001b[32m      4\u001b[39m \u001b[38;5;28mprint\u001b[39m(l1)\n",
      "\u001b[31mTypeError\u001b[39m: 'int' object is not iterable"
     ]
    }
   ],
   "source": [
    "#3.int to list.\n",
    "x= 56\n",
    "l1 = list(x)\n",
    "print(l1)"
   ]
  },
  {
   "cell_type": "code",
   "execution_count": 13,
   "id": "7d2f5df1",
   "metadata": {},
   "outputs": [
    {
     "ename": "TypeError",
     "evalue": "'int' object is not iterable",
     "output_type": "error",
     "traceback": [
      "\u001b[31m---------------------------------------------------------------------------\u001b[39m",
      "\u001b[31mTypeError\u001b[39m                                 Traceback (most recent call last)",
      "\u001b[36mCell\u001b[39m\u001b[36m \u001b[39m\u001b[32mIn[13]\u001b[39m\u001b[32m, line 1\u001b[39m\n\u001b[32m----> \u001b[39m\u001b[32m1\u001b[39m s1 = \u001b[38;5;28;43mset\u001b[39;49m\u001b[43m(\u001b[49m\u001b[43mx\u001b[49m\u001b[43m)\u001b[49m\n\u001b[32m      2\u001b[39m s1\n",
      "\u001b[31mTypeError\u001b[39m: 'int' object is not iterable"
     ]
    }
   ],
   "source": [
    "s1 = set(x)\n",
    "s1"
   ]
  },
  {
   "cell_type": "code",
   "execution_count": 12,
   "id": "58435f27",
   "metadata": {},
   "outputs": [
    {
     "ename": "TypeError",
     "evalue": "'int' object is not iterable",
     "output_type": "error",
     "traceback": [
      "\u001b[31m---------------------------------------------------------------------------\u001b[39m",
      "\u001b[31mTypeError\u001b[39m                                 Traceback (most recent call last)",
      "\u001b[36mCell\u001b[39m\u001b[36m \u001b[39m\u001b[32mIn[12]\u001b[39m\u001b[32m, line 1\u001b[39m\n\u001b[32m----> \u001b[39m\u001b[32m1\u001b[39m d1 = \u001b[38;5;28;43mdict\u001b[39;49m\u001b[43m(\u001b[49m\u001b[43mx\u001b[49m\u001b[43m)\u001b[49m\n\u001b[32m      2\u001b[39m d1\n",
      "\u001b[31mTypeError\u001b[39m: 'int' object is not iterable"
     ]
    }
   ],
   "source": [
    "d1 = dict(x)\n",
    "d1"
   ]
  },
  {
   "cell_type": "code",
   "execution_count": 14,
   "id": "e0acc63f",
   "metadata": {},
   "outputs": [
    {
     "ename": "ValueError",
     "evalue": "invalid literal for int() with base 10: 'hello'",
     "output_type": "error",
     "traceback": [
      "\u001b[31m---------------------------------------------------------------------------\u001b[39m",
      "\u001b[31mValueError\u001b[39m                                Traceback (most recent call last)",
      "\u001b[36mCell\u001b[39m\u001b[36m \u001b[39m\u001b[32mIn[14]\u001b[39m\u001b[32m, line 3\u001b[39m\n\u001b[32m      1\u001b[39m \u001b[38;5;66;03m#string to int\u001b[39;00m\n\u001b[32m      2\u001b[39m str1 = \u001b[33m\"\u001b[39m\u001b[33mhello\u001b[39m\u001b[33m\"\u001b[39m\n\u001b[32m----> \u001b[39m\u001b[32m3\u001b[39m x = \u001b[38;5;28;43mint\u001b[39;49m\u001b[43m(\u001b[49m\u001b[43mstr1\u001b[49m\u001b[43m)\u001b[49m\n\u001b[32m      4\u001b[39m \u001b[38;5;28mprint\u001b[39m(x)\n",
      "\u001b[31mValueError\u001b[39m: invalid literal for int() with base 10: 'hello'"
     ]
    }
   ],
   "source": [
    "#string to int\n",
    "str1 = \"hello\"\n",
    "x = int(str1)\n",
    "print(x)"
   ]
  },
  {
   "cell_type": "code",
   "execution_count": 17,
   "id": "0b533f47",
   "metadata": {},
   "outputs": [
    {
     "name": "stdout",
     "output_type": "stream",
     "text": [
      "22\n"
     ]
    }
   ],
   "source": [
    "Age = '22'\n",
    "x = int(Age)\n",
    "print(x)"
   ]
  },
  {
   "cell_type": "code",
   "execution_count": 18,
   "id": "e506ce18",
   "metadata": {},
   "outputs": [
    {
     "data": {
      "text/plain": [
       "23.43"
      ]
     },
     "execution_count": 18,
     "metadata": {},
     "output_type": "execute_result"
    }
   ],
   "source": [
    "#string to float\n",
    "Age = '23.43'\n",
    "y = float(Age)\n",
    "y"
   ]
  },
  {
   "cell_type": "code",
   "execution_count": 20,
   "id": "cf8a1400",
   "metadata": {},
   "outputs": [],
   "source": [
    "Name1 = \"jay\"\n",
    "Age1 = '23'\n"
   ]
  },
  {
   "cell_type": "code",
   "execution_count": 21,
   "id": "bed26b90",
   "metadata": {},
   "outputs": [
    {
     "ename": "ValueError",
     "evalue": "invalid literal for int() with base 10: 'jay'",
     "output_type": "error",
     "traceback": [
      "\u001b[31m---------------------------------------------------------------------------\u001b[39m",
      "\u001b[31mValueError\u001b[39m                                Traceback (most recent call last)",
      "\u001b[36mCell\u001b[39m\u001b[36m \u001b[39m\u001b[32mIn[21]\u001b[39m\u001b[32m, line 1\u001b[39m\n\u001b[32m----> \u001b[39m\u001b[32m1\u001b[39m N1 = \u001b[38;5;28;43mint\u001b[39;49m\u001b[43m(\u001b[49m\u001b[43mName1\u001b[49m\u001b[43m)\u001b[49m\n\u001b[32m      2\u001b[39m \u001b[38;5;28mprint\u001b[39m(N1)\n",
      "\u001b[31mValueError\u001b[39m: invalid literal for int() with base 10: 'jay'"
     ]
    }
   ],
   "source": [
    "N1 = int(Name1)\n",
    "print(N1)"
   ]
  },
  {
   "cell_type": "code",
   "execution_count": 22,
   "id": "66d5e095",
   "metadata": {},
   "outputs": [
    {
     "name": "stdout",
     "output_type": "stream",
     "text": [
      "23\n"
     ]
    }
   ],
   "source": [
    "y1 = int(Age1)\n",
    "print(y1)"
   ]
  },
  {
   "cell_type": "code",
   "execution_count": 23,
   "id": "ecbdb91c",
   "metadata": {},
   "outputs": [
    {
     "name": "stdout",
     "output_type": "stream",
     "text": [
      "['j', 'a', 'y']\n"
     ]
    }
   ],
   "source": [
    "#string to list\n",
    "Name1 = \"jay\"\n",
    "l1 = list(Name1)\n",
    "print(l1)"
   ]
  },
  {
   "cell_type": "code",
   "execution_count": 24,
   "id": "ebf7d95c",
   "metadata": {},
   "outputs": [
    {
     "data": {
      "text/plain": [
       "['I',\n",
       " ' ',\n",
       " 'a',\n",
       " 'm',\n",
       " ' ',\n",
       " 'f',\n",
       " 'r',\n",
       " 'o',\n",
       " 'm',\n",
       " ' ',\n",
       " 'P',\n",
       " 'y',\n",
       " 't',\n",
       " 'h',\n",
       " 'o',\n",
       " 'n',\n",
       " ' ',\n",
       " 'I',\n",
       " 't',\n",
       " 'p',\n",
       " ' ',\n",
       " '1',\n",
       " '2',\n",
       " ' ',\n",
       " '@',\n",
       " ' ']"
      ]
     },
     "execution_count": 24,
     "metadata": {},
     "output_type": "execute_result"
    }
   ],
   "source": [
    "std = \"I am from Python Itp 12 @ \"\n",
    "l2 = list(std)\n",
    "l2"
   ]
  },
  {
   "cell_type": "code",
   "execution_count": 25,
   "id": "23b3b1c5",
   "metadata": {},
   "outputs": [
    {
     "name": "stdout",
     "output_type": "stream",
     "text": [
      "['j', 'a', 'y']\n"
     ]
    }
   ],
   "source": [
    "n2 = list(Name1)\n",
    "print(n2)"
   ]
  },
  {
   "cell_type": "code",
   "execution_count": 31,
   "id": "4714d7fc",
   "metadata": {},
   "outputs": [],
   "source": [
    "#WAp to print given String into formate of list.\n",
    "Str = \" I am from Itpm\""
   ]
  },
  {
   "cell_type": "code",
   "execution_count": 32,
   "id": "9602506e",
   "metadata": {},
   "outputs": [
    {
     "data": {
      "text/plain": [
       "[' ', 'I', ' ', 'a', 'm', ' ', 'f', 'r', 'o', 'm', ' ', 'I', 't', 'p', 'm']"
      ]
     },
     "execution_count": 32,
     "metadata": {},
     "output_type": "execute_result"
    }
   ],
   "source": [
    "l1 = list(Str)\n",
    "l1"
   ]
  },
  {
   "cell_type": "code",
   "execution_count": null,
   "id": "017b215c",
   "metadata": {},
   "outputs": [],
   "source": [
    "#WAp to print given String into formate of list without using type casting.\n",
    "Str = \" I am from Itpm\""
   ]
  },
  {
   "cell_type": "code",
   "execution_count": 33,
   "id": "a2d45a8a",
   "metadata": {},
   "outputs": [
    {
     "name": "stdout",
     "output_type": "stream",
     "text": [
      "{'y', 'P', 'i', 'r', 'g', 'h', 'o', 'a', 't', 'n', 'm', ' '}\n"
     ]
    }
   ],
   "source": [
    "#string to set \n",
    "str2 = \" Python Programming\"\n",
    "s1 = set(str2)\n",
    "print(s1)"
   ]
  },
  {
   "cell_type": "code",
   "execution_count": 34,
   "id": "74358eac",
   "metadata": {},
   "outputs": [
    {
     "name": "stdout",
     "output_type": "stream",
     "text": [
      "{' ', 'P', 'I', 'r', 'h', 'a', 't', 'K', 'w', 'd', 'm'}\n"
     ]
    }
   ],
   "source": [
    "#WAp to print unique char from give str.\n",
    "str3 = \" I am Parth I am Kawad\"\n",
    "str4 = set(str3)\n",
    "print(str4)"
   ]
  },
  {
   "cell_type": "code",
   "execution_count": 36,
   "id": "fe6c1ff4",
   "metadata": {},
   "outputs": [
    {
     "name": "stdout",
     "output_type": "stream",
     "text": [
      " I am Parth I am Kawad\n",
      "(' ', 'I', ' ', 'a', 'm', ' ', 'P', 'a', 'r', 't', 'h', ' ', 'I', ' ', 'a', 'm', ' ', 'K', 'a', 'w', 'a', 'd')\n"
     ]
    }
   ],
   "source": [
    "#string to tuple\n",
    "print(str3)\n",
    "t1 = tuple(str3)\n",
    "print(t1)"
   ]
  },
  {
   "cell_type": "code",
   "execution_count": 38,
   "id": "15338643",
   "metadata": {},
   "outputs": [
    {
     "name": "stdout",
     "output_type": "stream",
     "text": [
      " I am Parth I am Kawad\n"
     ]
    },
    {
     "ename": "ValueError",
     "evalue": "dictionary update sequence element #0 has length 1; 2 is required",
     "output_type": "error",
     "traceback": [
      "\u001b[31m---------------------------------------------------------------------------\u001b[39m",
      "\u001b[31mValueError\u001b[39m                                Traceback (most recent call last)",
      "\u001b[36mCell\u001b[39m\u001b[36m \u001b[39m\u001b[32mIn[38]\u001b[39m\u001b[32m, line 3\u001b[39m\n\u001b[32m      1\u001b[39m \u001b[38;5;66;03m#string to dict.\u001b[39;00m\n\u001b[32m      2\u001b[39m \u001b[38;5;28mprint\u001b[39m(str3)\n\u001b[32m----> \u001b[39m\u001b[32m3\u001b[39m d1 = \u001b[38;5;28;43mdict\u001b[39;49m\u001b[43m(\u001b[49m\u001b[43mstr3\u001b[49m\u001b[43m)\u001b[49m\n\u001b[32m      4\u001b[39m \u001b[38;5;28mprint\u001b[39m(d1)\n",
      "\u001b[31mValueError\u001b[39m: dictionary update sequence element #0 has length 1; 2 is required"
     ]
    }
   ],
   "source": [
    "#string to dict.\n",
    "print(str3)\n",
    "d1 = dict(str3)\n",
    "print(d1)"
   ]
  },
  {
   "cell_type": "markdown",
   "id": "0a915d70",
   "metadata": {},
   "source": [
    "List                        Tuple \n",
    "1.List to i(No)                      1.Tuple to int (No)\n",
    "2.List to float(No)                   2.Tuple to float (No)\n",
    "3.list to string (Yes)                 3.Tuple to String (Yes) \n",
    "4.list to set (Yes)                    4.Tuple to List(Yes) \n",
    "5.list to tuple (Yes)                   5.Tuple to Set(Yes) \n",
    "6.list to dict(No)                      6.Tuple to Dict(No)\n",
    "Set :                        Dict\n",
    "1.set to int (No)                    1.dict to int (No)\n",
    "2.set to float (No)                  2.dict to float (no)\n",
    "3.set to string (yes)                3.dict to string (Yes) \n",
    "4.set to list  (Yes)                 4.dict to list (Yes)         \n",
    "5.set to tuple (Yes)                 5.dict to tuple (Yes) \n",
    "6.set to dict. (No)                  6.dict to set (Yes) \n"
   ]
  },
  {
   "cell_type": "code",
   "execution_count": null,
   "id": "3710aad3",
   "metadata": {},
   "outputs": [
    {
     "name": "stdout",
     "output_type": "stream",
     "text": [
      "{101: 'Emp_Id', 'Name': ['Jay', 'Soham', 'Shruti']}\n",
      "<class 'str'>\n"
     ]
    }
   ],
   "source": [
    "#dict to String. \n",
    "dict1 = { 101 : \"Emp_Id\",\n",
    "         \"Name\" : [\"Jay\",\"Soham\",\"Shruti\"]}\n",
    "str1 = str(dict1)\n",
    "print(str1)\n",
    "print(type(str1))\n"
   ]
  },
  {
   "cell_type": "code",
   "execution_count": 15,
   "id": "ee4c2328",
   "metadata": {},
   "outputs": [
    {
     "name": "stdout",
     "output_type": "stream",
     "text": [
      "[101, 'Name']\n"
     ]
    }
   ],
   "source": [
    "dict1 = { 101 : \"Emp_Id\",\n",
    "         \"Name\" : [\"Jay\",\"Soham\",\"Shruti\"]}\n",
    "l1 = list(dict1)\n",
    "print(l1)"
   ]
  },
  {
   "cell_type": "markdown",
   "id": "c853feaa",
   "metadata": {},
   "source": [
    "2. \n",
    "1.int\n",
    "2.float\n",
    "3.bool\n",
    "4.complex\n",
    "\n"
   ]
  },
  {
   "cell_type": "code",
   "execution_count": 1,
   "id": "47d7bc1d",
   "metadata": {},
   "outputs": [
    {
     "name": "stdout",
     "output_type": "stream",
     "text": [
      "47.12\n"
     ]
    }
   ],
   "source": [
    "#int to float\n",
    "x = 2\n",
    "y=23.56\n",
    "print(x*y)"
   ]
  },
  {
   "cell_type": "code",
   "execution_count": 2,
   "id": "37a181cb",
   "metadata": {},
   "outputs": [
    {
     "name": "stdout",
     "output_type": "stream",
     "text": [
      "(27+5j)\n"
     ]
    }
   ],
   "source": [
    "#int + complex\n",
    "x = 23 \n",
    "y = 4+5j\n",
    "print(x+y)\n"
   ]
  },
  {
   "cell_type": "code",
   "execution_count": 4,
   "id": "e9db2ff9",
   "metadata": {},
   "outputs": [
    {
     "ename": "TypeError",
     "evalue": "int() argument must be a string, a bytes-like object or a real number, not 'complex'",
     "output_type": "error",
     "traceback": [
      "\u001b[31m---------------------------------------------------------------------------\u001b[39m",
      "\u001b[31mTypeError\u001b[39m                                 Traceback (most recent call last)",
      "\u001b[36mCell\u001b[39m\u001b[36m \u001b[39m\u001b[32mIn[4]\u001b[39m\u001b[32m, line 2\u001b[39m\n\u001b[32m      1\u001b[39m a = \u001b[32m4\u001b[39m+\u001b[32m5\u001b[39mj\n\u001b[32m----> \u001b[39m\u001b[32m2\u001b[39m b = \u001b[38;5;28;43mint\u001b[39;49m\u001b[43m(\u001b[49m\u001b[43ma\u001b[49m\u001b[43m)\u001b[49m\n\u001b[32m      3\u001b[39m \u001b[38;5;28mprint\u001b[39m(b)\n",
      "\u001b[31mTypeError\u001b[39m: int() argument must be a string, a bytes-like object or a real number, not 'complex'"
     ]
    }
   ],
   "source": [
    "a = 4+5j\n",
    "b = int(a)\n",
    "print(b)"
   ]
  },
  {
   "cell_type": "code",
   "execution_count": 3,
   "id": "2e21758f",
   "metadata": {},
   "outputs": [
    {
     "name": "stdout",
     "output_type": "stream",
     "text": [
      "(4+8j)\n"
     ]
    }
   ],
   "source": [
    "a = 3j\n",
    "b = 4+5j\n",
    "print(a+b)"
   ]
  },
  {
   "cell_type": "code",
   "execution_count": 5,
   "id": "6f79c7af",
   "metadata": {},
   "outputs": [
    {
     "name": "stdout",
     "output_type": "stream",
     "text": [
      "11\n"
     ]
    }
   ],
   "source": [
    "x1 = 10 \n",
    "y1 = True\n",
    "print(x1+y1)"
   ]
  },
  {
   "cell_type": "code",
   "execution_count": 6,
   "id": "4a6eecc5",
   "metadata": {},
   "outputs": [
    {
     "name": "stdout",
     "output_type": "stream",
     "text": [
      "34\n"
     ]
    }
   ],
   "source": [
    "x2 = False\n",
    "y2 = 34\n",
    "print(x2+y2)"
   ]
  },
  {
   "cell_type": "code",
   "execution_count": 8,
   "id": "91e0a495",
   "metadata": {},
   "outputs": [
    {
     "name": "stdout",
     "output_type": "stream",
     "text": [
      "(2+6j)\n"
     ]
    }
   ],
   "source": [
    "# complex +  bool\n",
    "x = 3+6j\n",
    "y = True\n",
    "print(x-y)"
   ]
  },
  {
   "cell_type": "code",
   "execution_count": null,
   "id": "d77646b8",
   "metadata": {},
   "outputs": [
    {
     "name": "stdout",
     "output_type": "stream",
     "text": [
      "(596.64+1044.12j)\n"
     ]
    }
   ],
   "source": [
    "p1 = 12\n",
    "p2 = 12.43\n",
    "p3 = 4+7j\n",
    "print(p1*p2*p3)\n",
    "#  12*12.43*(4+7j)\n",
    "#  144.43(4+7j)"
   ]
  },
  {
   "cell_type": "code",
   "execution_count": null,
   "id": "89da2d1f",
   "metadata": {},
   "outputs": [],
   "source": [
    "x = 23\n",
    "y = 23.54\n",
    "print(x+y)#..............................46.25\n",
    "x1 = \"Name\"\n",
    "y1 = 23\n",
    "print(x1+y1)#.........................Error"
   ]
  },
  {
   "cell_type": "code",
   "execution_count": 12,
   "id": "1e7f2202",
   "metadata": {},
   "outputs": [
    {
     "ename": "TypeError",
     "evalue": "can only concatenate str (not \"int\") to str",
     "output_type": "error",
     "traceback": [
      "\u001b[31m---------------------------------------------------------------------------\u001b[39m",
      "\u001b[31mTypeError\u001b[39m                                 Traceback (most recent call last)",
      "\u001b[36mCell\u001b[39m\u001b[36m \u001b[39m\u001b[32mIn[12]\u001b[39m\u001b[32m, line 3\u001b[39m\n\u001b[32m      1\u001b[39m x1 = \u001b[33m\"\u001b[39m\u001b[33m21\u001b[39m\u001b[33m\"\u001b[39m\n\u001b[32m      2\u001b[39m y1 = \u001b[32m20\u001b[39m\n\u001b[32m----> \u001b[39m\u001b[32m3\u001b[39m \u001b[38;5;28mprint\u001b[39m(\u001b[43mx1\u001b[49m\u001b[43m+\u001b[49m\u001b[43my1\u001b[49m)\n",
      "\u001b[31mTypeError\u001b[39m: can only concatenate str (not \"int\") to str"
     ]
    }
   ],
   "source": [
    "x1 = \"21\"\n",
    "y1 = 20\n",
    "print(x1+y1)"
   ]
  }
 ],
 "metadata": {
  "kernelspec": {
   "display_name": "Python 3",
   "language": "python",
   "name": "python3"
  },
  "language_info": {
   "codemirror_mode": {
    "name": "ipython",
    "version": 3
   },
   "file_extension": ".py",
   "mimetype": "text/x-python",
   "name": "python",
   "nbconvert_exporter": "python",
   "pygments_lexer": "ipython3",
   "version": "3.11.9"
  }
 },
 "nbformat": 4,
 "nbformat_minor": 5
}
