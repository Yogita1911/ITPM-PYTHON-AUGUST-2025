{
 "cells": [
  {
   "cell_type": "code",
   "execution_count": 1,
   "id": "3c472130",
   "metadata": {},
   "outputs": [
    {
     "data": {
      "text/plain": [
       "23"
      ]
     },
     "execution_count": 1,
     "metadata": {},
     "output_type": "execute_result"
    }
   ],
   "source": [
    "x=4 #g\n",
    "def number(a,b):\n",
    "    return a #local\n",
    "number(23,54)"
   ]
  },
  {
   "cell_type": "code",
   "execution_count": 2,
   "id": "f2013399",
   "metadata": {},
   "outputs": [
    {
     "name": "stdout",
     "output_type": "stream",
     "text": [
      "4\n"
     ]
    },
    {
     "ename": "NameError",
     "evalue": "name 'a' is not defined",
     "output_type": "error",
     "traceback": [
      "\u001b[31m---------------------------------------------------------------------------\u001b[39m",
      "\u001b[31mNameError\u001b[39m                                 Traceback (most recent call last)",
      "\u001b[36mCell\u001b[39m\u001b[36m \u001b[39m\u001b[32mIn[2]\u001b[39m\u001b[32m, line 2\u001b[39m\n\u001b[32m      1\u001b[39m \u001b[38;5;28mprint\u001b[39m(x)\n\u001b[32m----> \u001b[39m\u001b[32m2\u001b[39m \u001b[38;5;28mprint\u001b[39m(\u001b[43ma\u001b[49m)\n",
      "\u001b[31mNameError\u001b[39m: name 'a' is not defined"
     ]
    }
   ],
   "source": [
    "print(x)\n",
    "print(a)"
   ]
  },
  {
   "cell_type": "markdown",
   "id": "8a3666af",
   "metadata": {},
   "source": [
    "#wap \n",
    "a ,b ,+"
   ]
  },
  {
   "cell_type": "markdown",
   "id": "5b107521",
   "metadata": {},
   "source": [
    "Operators:\n",
    "1.Arithmatic \n",
    "1.+\n",
    "2.-\n",
    "3.*\n",
    "4.%\n",
    "5./\n",
    "6.**\n",
    "7.//\n"
   ]
  },
  {
   "cell_type": "code",
   "execution_count": 3,
   "id": "43409275",
   "metadata": {},
   "outputs": [
    {
     "name": "stdout",
     "output_type": "stream",
     "text": [
      "68\n",
      "-22\n",
      "1035\n",
      "0.5111111111111111\n",
      "23\n",
      "18956258430116202791319715713277227626159289499745290235663543\n"
     ]
    }
   ],
   "source": [
    "a=23\n",
    "b=45\n",
    "print(a+b)\n",
    "print(a-b)\n",
    "print(a*b)\n",
    "print(a/b)\n",
    "print(a%b)\n",
    "print(a**b)"
   ]
  },
  {
   "cell_type": "code",
   "execution_count": 5,
   "id": "e52582bb",
   "metadata": {},
   "outputs": [
    {
     "name": "stdout",
     "output_type": "stream",
     "text": [
      "2.0\n",
      "0\n",
      "2\n"
     ]
    }
   ],
   "source": [
    "x=10\n",
    "y=5\n",
    "print(x/y)\n",
    "print(x%y)\n",
    "print(x//y)"
   ]
  },
  {
   "cell_type": "code",
   "execution_count": 8,
   "id": "d0b48920",
   "metadata": {},
   "outputs": [
    {
     "name": "stdout",
     "output_type": "stream",
     "text": [
      "5\n"
     ]
    }
   ],
   "source": [
    "x= 16\n",
    "y= 3\n",
    "print(x//y)"
   ]
  },
  {
   "cell_type": "code",
   "execution_count": null,
   "id": "2ab7449e",
   "metadata": {},
   "outputs": [],
   "source": [
    "#What is diff between / and //."
   ]
  },
  {
   "cell_type": "markdown",
   "id": "0b05380e",
   "metadata": {},
   "source": [
    "2.Comp.\n",
    "1.==\n",
    "2.>\n",
    "3.<\n",
    "4.<=\n",
    "5.>=\n",
    "6.!="
   ]
  },
  {
   "cell_type": "code",
   "execution_count": 9,
   "id": "28ac07f2",
   "metadata": {},
   "outputs": [
    {
     "name": "stdout",
     "output_type": "stream",
     "text": [
      "False\n"
     ]
    }
   ],
   "source": [
    "a=10\n",
    "b=20\n",
    "print(a==b)"
   ]
  },
  {
   "cell_type": "code",
   "execution_count": 10,
   "id": "0ab54ab6",
   "metadata": {},
   "outputs": [
    {
     "name": "stdout",
     "output_type": "stream",
     "text": [
      "True\n"
     ]
    }
   ],
   "source": [
    "print(a!=b)"
   ]
  },
  {
   "cell_type": "code",
   "execution_count": 12,
   "id": "22a8d9b9",
   "metadata": {},
   "outputs": [
    {
     "name": "stdout",
     "output_type": "stream",
     "text": [
      "False\n",
      "True\n"
     ]
    }
   ],
   "source": [
    "print(a>b)\n",
    "print(a<b)"
   ]
  },
  {
   "cell_type": "code",
   "execution_count": 14,
   "id": "be268ab4",
   "metadata": {},
   "outputs": [
    {
     "name": "stdout",
     "output_type": "stream",
     "text": [
      "True\n",
      "False\n"
     ]
    }
   ],
   "source": [
    "print(a<=b)\n",
    "print(a>=b)"
   ]
  },
  {
   "cell_type": "markdown",
   "id": "d5d4f130",
   "metadata": {},
   "source": [
    "3.Logical\n",
    "1.and\n",
    "2.or \n",
    "3.not\n"
   ]
  },
  {
   "cell_type": "code",
   "execution_count": null,
   "id": "19a84e07",
   "metadata": {},
   "outputs": [
    {
     "name": "stdout",
     "output_type": "stream",
     "text": [
      "False\n"
     ]
    }
   ],
   "source": [
    "#and\n",
    "A = 23\n",
    "B = 25\n",
    "print(A>30 and B>30)\n",
    "    # F and F......F\n",
    "    \n",
    "    \n",
    "    \n",
    "    "
   ]
  },
  {
   "cell_type": "markdown",
   "id": "2ce47032",
   "metadata": {},
   "source": [
    "And Table (IF BOTH CONDITIONS ARE TRUE IT WILL PRINT TTRUE OTHERWISE IT WILL PRINT FALSE)\n",
    "C1  C2   and  OR   NOT A\n",
    "T    T    T    T    F\n",
    "T    F    F    T    F\n",
    "F    T    F    T    T\n",
    "F    F    F    F    T"
   ]
  },
  {
   "cell_type": "code",
   "execution_count": null,
   "id": "c6d8fdf3",
   "metadata": {},
   "outputs": [],
   "source": [
    "what is diff bet. AND and &"
   ]
  },
  {
   "cell_type": "markdown",
   "id": "c1c0b5f8",
   "metadata": {},
   "source": [
    "2.OR :(IF ONE CONDITION IS TRUE THEN IT WILL PRINT TRUE.)\n",
    "\n"
   ]
  },
  {
   "cell_type": "code",
   "execution_count": 16,
   "id": "888aac2c",
   "metadata": {},
   "outputs": [
    {
     "name": "stdout",
     "output_type": "stream",
     "text": [
      "True\n"
     ]
    }
   ],
   "source": [
    "A3 =30\n",
    "A4 =50\n",
    "print(A3>25 or A4>100)\n",
    "     # T or f"
   ]
  },
  {
   "cell_type": "code",
   "execution_count": 17,
   "id": "3369a713",
   "metadata": {},
   "outputs": [
    {
     "name": "stdout",
     "output_type": "stream",
     "text": [
      "False\n"
     ]
    }
   ],
   "source": [
    "#not \n",
    "a = True\n",
    "print(not(a))\n",
    "\n"
   ]
  },
  {
   "cell_type": "code",
   "execution_count": 20,
   "id": "bf051e45",
   "metadata": {},
   "outputs": [
    {
     "name": "stdout",
     "output_type": "stream",
     "text": [
      "True\n"
     ]
    }
   ],
   "source": [
    "x=10\n",
    "y=20\n",
    "print(not(x>10 and y>10))"
   ]
  },
  {
   "cell_type": "code",
   "execution_count": 23,
   "id": "76749ae8",
   "metadata": {},
   "outputs": [
    {
     "name": "stdout",
     "output_type": "stream",
     "text": [
      "True\n",
      "True\n"
     ]
    }
   ],
   "source": [
    "l1 = [12,32,43,54,65]\n",
    "print(32 in l1)\n",
    "print(55 not in l1)"
   ]
  },
  {
   "cell_type": "code",
   "execution_count": 25,
   "id": "09cb4261",
   "metadata": {},
   "outputs": [
    {
     "name": "stdout",
     "output_type": "stream",
     "text": [
      "True\n",
      "False\n"
     ]
    }
   ],
   "source": [
    "my_info = \"I am from Itpm python aug batch\"\n",
    "print(\"aug\" in my_info)\n",
    "print(\"july\" in my_info)"
   ]
  },
  {
   "cell_type": "code",
   "execution_count": 26,
   "id": "92892fdf",
   "metadata": {},
   "outputs": [
    {
     "name": "stdout",
     "output_type": "stream",
     "text": [
      "False\n"
     ]
    }
   ],
   "source": [
    "p = 10\n",
    "q = 20\n",
    "print( p is q)"
   ]
  },
  {
   "cell_type": "code",
   "execution_count": 29,
   "id": "88a797a5",
   "metadata": {},
   "outputs": [
    {
     "name": "stdout",
     "output_type": "stream",
     "text": [
      "True\n",
      "False\n",
      "True\n"
     ]
    }
   ],
   "source": [
    "p1=10\n",
    "q1=10\n",
    "print(p1 is q1)\n",
    "print(p1 is not q1)\n",
    "print(p1==q1)"
   ]
  },
  {
   "cell_type": "code",
   "execution_count": 30,
   "id": "93fcc474",
   "metadata": {},
   "outputs": [
    {
     "name": "stdout",
     "output_type": "stream",
     "text": [
      "0\n"
     ]
    }
   ],
   "source": [
    "a=10\n",
    "b=20\n",
    "print(a&b)"
   ]
  },
  {
   "cell_type": "code",
   "execution_count": 31,
   "id": "92f53b9d",
   "metadata": {},
   "outputs": [
    {
     "name": "stdout",
     "output_type": "stream",
     "text": [
      "2\n"
     ]
    }
   ],
   "source": [
    "a=2\n",
    "b=3\n",
    "print(a&b)"
   ]
  },
  {
   "cell_type": "code",
   "execution_count": null,
   "id": "119a922a",
   "metadata": {},
   "outputs": [],
   "source": [
    "#1.What is diff between / and //.\n",
    "#2.What is diff between == and is.\n",
    "#3.What is diff between AND and &.\n",
    "#4.What is diff between | and ^.\n",
    "#5.what is the use of in operator.\n",
    "#6.What is diff between variables and identifiers.\n",
    "#7.What is diff between Dynamic binding and dynamic typing.\n",
    "#8.what is diff between local and global variable. \n",
    "#9.Is it possible to declear global variable inside the function if yes how ?\n"
   ]
  },
  {
   "cell_type": "code",
   "execution_count": null,
   "id": "db0a201d",
   "metadata": {},
   "outputs": [],
   "source": [
    "#6.Bitwise operators\n",
    "1.&\n",
    "2.|"
   ]
  },
  {
   "cell_type": "code",
   "execution_count": 1,
   "id": "993a87ad",
   "metadata": {},
   "outputs": [
    {
     "name": "stdout",
     "output_type": "stream",
     "text": [
      "2\n"
     ]
    }
   ],
   "source": [
    "x=2\n",
    "y=3\n",
    "print(x&y)"
   ]
  },
  {
   "cell_type": "markdown",
   "id": "ac1e8aa4",
   "metadata": {},
   "source": [
    "x=2 dec............bin=10\n",
    "y=3dec.............bin=11\n",
    "x  y   and\n",
    "10  11\n",
    "                            1 0\n",
    "                            1 1\n",
    "                        ....................\n",
    "                            1  0............................bin 10 dec=2"
   ]
  },
  {
   "cell_type": "code",
   "execution_count": 2,
   "id": "6bc1ede8",
   "metadata": {},
   "outputs": [
    {
     "name": "stdout",
     "output_type": "stream",
     "text": [
      "15\n"
     ]
    }
   ],
   "source": [
    "#2 0r ....|(if one bit is 1 then it will print 1)\n",
    "x=5\n",
    "y=10\n",
    "print(x|y)"
   ]
  },
  {
   "cell_type": "markdown",
   "id": "339deb82",
   "metadata": {},
   "source": [
    "x=5  dec.........bin:101\n",
    "y=10 dec.........bin:1010\n",
    "or \n",
    "                                  0101\n",
    "                                  1010\n",
    "                        .............................\n",
    "                        or        1111...................dec:15\n"
   ]
  },
  {
   "cell_type": "code",
   "execution_count": null,
   "id": "8c75cc99",
   "metadata": {},
   "outputs": [
    {
     "name": "stdout",
     "output_type": "stream",
     "text": [
      "14\n",
      "15\n"
     ]
    }
   ],
   "source": [
    "#3.x-or \n",
    "x=5\n",
    "y=11\n",
    "print(x...y)\n",
    "print(x|y)"
   ]
  },
  {
   "cell_type": "markdown",
   "id": "0ddf3ebc",
   "metadata": {},
   "source": [
    "x = 5.............0101\n",
    "y=11..............1011\n",
    "X-or .............1110.........14"
   ]
  },
  {
   "cell_type": "markdown",
   "metadata": {},
   "source": [
    "1.if x=20,y=30 ,x...y\n",
    " output of this code is 10 fill in the blank.\n",
    " a.| b.& c.^ d.none of above.\n"
   ]
  },
  {
   "cell_type": "code",
   "execution_count": 6,
   "metadata": {},
   "outputs": [
    {
     "name": "stdout",
     "output_type": "stream",
     "text": [
      "10\n"
     ]
    }
   ],
   "source": [
    "x=20\n",
    "y=30\n",
    "print(x^y)"
   ]
  },
  {
   "cell_type": "code",
   "execution_count": 7,
   "metadata": {},
   "outputs": [
    {
     "name": "stdout",
     "output_type": "stream",
     "text": [
      "-11\n"
     ]
    }
   ],
   "source": [
    "#4.~ nor or bitwise one or one's compliment.\n",
    "x=10\n",
    "print(~x)"
   ]
  },
  {
   "cell_type": "code",
   "execution_count": 8,
   "id": "ae3b588b",
   "metadata": {},
   "outputs": [
    {
     "name": "stdout",
     "output_type": "stream",
     "text": [
      "-8\n"
     ]
    }
   ],
   "source": [
    "y=7\n",
    "print(~y)"
   ]
  },
  {
   "cell_type": "markdown",
   "metadata": {},
   "source": [
    "x=10....................1010\n",
    "                        +  1\n",
    "                      .....................\n",
    "                         -1011...................-11\n",
    "\n",
    "y=7...................111\n",
    "                       +1\n",
    "                  ....................\n",
    "                     1000................-8"
   ]
  },
  {
   "cell_type": "code",
   "execution_count": null,
   "metadata": {},
   "outputs": [],
   "source": [
    "#5.left shift <<\n",
    "#6.Right shift >>"
   ]
  },
  {
   "cell_type": "code",
   "execution_count": 11,
   "id": "268cdede",
   "metadata": {},
   "outputs": [
    {
     "name": "stdout",
     "output_type": "stream",
     "text": [
      "1\n"
     ]
    }
   ],
   "source": [
    "x=4\n",
    "print(x>>2)"
   ]
  },
  {
   "cell_type": "markdown",
   "id": "5f89d600",
   "metadata": {},
   "source": [
    "x = 4..................100\n",
    ">>.....................001..............1"
   ]
  },
  {
   "cell_type": "code",
   "execution_count": 13,
   "id": "3687239b",
   "metadata": {},
   "outputs": [
    {
     "name": "stdout",
     "output_type": "stream",
     "text": [
      "4\n"
     ]
    }
   ],
   "source": [
    "x=8\n",
    "print(x>>1)"
   ]
  },
  {
   "cell_type": "markdown",
   "id": "5e2e8a99",
   "metadata": {},
   "source": [
    "x=8.......1000\n",
    ">>1.......0100......dec 4"
   ]
  },
  {
   "cell_type": "code",
   "execution_count": 15,
   "id": "3d6bcd0f",
   "metadata": {},
   "outputs": [
    {
     "name": "stdout",
     "output_type": "stream",
     "text": [
      "4\n",
      "8\n"
     ]
    }
   ],
   "source": [
    "x=2\n",
    "print(x<<1)\n",
    "print(x<<2)"
   ]
  },
  {
   "cell_type": "markdown",
   "id": "fc5e60b8",
   "metadata": {},
   "source": [
    "x=2.......10\n",
    "<<1...... 100........4"
   ]
  },
  {
   "cell_type": "code",
   "execution_count": 1,
   "id": "f36e9b5d",
   "metadata": {},
   "outputs": [
    {
     "name": "stdout",
     "output_type": "stream",
     "text": [
      "56\n",
      "3\n"
     ]
    }
   ],
   "source": [
    "x=14\n",
    "print(x<<2)\n",
    "print(x>>2)"
   ]
  },
  {
   "cell_type": "markdown",
   "id": "a3abdcde",
   "metadata": {},
   "source": [
    "x=14................. 1110\n",
    "<<2................111000....dec 56\n",
    ">>2..................0011.....dec 3"
   ]
  },
  {
   "cell_type": "markdown",
   "id": "5d46a570",
   "metadata": {},
   "source": [
    "#7.Assignments.\n",
    "1.=\n",
    "2.+=\n",
    "3.-=\n",
    "4.*=\n",
    "5.**=\n",
    "6.%=\n",
    "7./=\n",
    "8.//="
   ]
  },
  {
   "cell_type": "code",
   "execution_count": null,
   "id": "3db02414",
   "metadata": {},
   "outputs": [
    {
     "name": "stdout",
     "output_type": "stream",
     "text": [
      "8\n"
     ]
    }
   ],
   "source": [
    "x=6\n",
    "x+=2 #x=x+2\n",
    "print(x)"
   ]
  },
  {
   "cell_type": "code",
   "execution_count": null,
   "id": "baf7145d",
   "metadata": {},
   "outputs": [],
   "source": [
    "#What is diff + and +=.\n",
    "if"
   ]
  },
  {
   "cell_type": "code",
   "execution_count": null,
   "id": "d92f7ef9",
   "metadata": {},
   "outputs": [],
   "source": [
    "x = 10\n",
    "y = 20\n",
    "x = 45\n",
    "print(x+y)\n",
    "\n",
    "\n",
    "#1.10 20 2.30 3.65."
   ]
  },
  {
   "cell_type": "code",
   "execution_count": null,
   "id": "94473909",
   "metadata": {},
   "outputs": [
    {
     "name": "stdout",
     "output_type": "stream",
     "text": [
      "Even\n",
      "33\n"
     ]
    }
   ],
   "source": [
    "x = 20\n",
    "if x%2==0: \n",
    "    print(\"Even\")\n",
    "else:\n",
    "    print(\"odd\")    \n",
    "x=33    \n",
    "print(f\"{x}\" )    "
   ]
  }
 ],
 "metadata": {
  "kernelspec": {
   "display_name": "Python 3",
   "language": "python",
   "name": "python3"
  },
  "language_info": {
   "codemirror_mode": {
    "name": "ipython",
    "version": 3
   },
   "file_extension": ".py",
   "mimetype": "text/x-python",
   "name": "python",
   "nbconvert_exporter": "python",
   "pygments_lexer": "ipython3",
   "version": "3.11.9"
  }
 },
 "nbformat": 4,
 "nbformat_minor": 5
}
