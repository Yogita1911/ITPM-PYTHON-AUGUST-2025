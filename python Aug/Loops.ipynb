{
 "cells": [
  {
   "cell_type": "markdown",
   "id": "0b631c83",
   "metadata": {},
   "source": []
  },
  {
   "cell_type": "markdown",
   "id": "503a59d2",
   "metadata": {},
   "source": [
    "Loops : "
   ]
  },
  {
   "cell_type": "markdown",
   "id": "9070d3a8",
   "metadata": {},
   "source": [
    "#While Loop:\n",
    "C-----\n",
    "init\n",
    "while (Condition);\n",
    "{\n",
    "    stat\n",
    "    incr/decr\n",
    "}\n",
    "\n",
    "Python \n",
    "While loop Syntax:\n",
    "init.\n",
    "while Condition :\n",
    "      stat\n",
    "            "
   ]
  },
  {
   "cell_type": "code",
   "execution_count": null,
   "id": "4fb45a28",
   "metadata": {},
   "outputs": [],
   "source": [
    "i = 1\n",
    "while i < 11: # i = 1,2.......................10,i=11 F\n",
    "    print(i) # 1 2 ......10\n",
    "    i+=1     # i = i+1 =1+1=2+1 = 3........11"
   ]
  },
  {
   "cell_type": "code",
   "execution_count": null,
   "id": "1a5bee4f",
   "metadata": {},
   "outputs": [],
   "source": [
    "i=10\n",
    "while i>=0 :\n",
    "    print(i)\n",
    "    i-=1"
   ]
  },
  {
   "cell_type": "code",
   "execution_count": 2,
   "id": "474e40ce",
   "metadata": {},
   "outputs": [
    {
     "name": "stdout",
     "output_type": "stream",
     "text": [
      "0 2 4 6 8 10 12 14 16 18 20 22 24 26 28 30 32 34 36 38 40 42 44 46 48 50 "
     ]
    }
   ],
   "source": [
    "x = 0\n",
    "while x < 51:\n",
    "    print(x,end=\" \")\n",
    "    x+=2\n",
    "    "
   ]
  },
  {
   "cell_type": "code",
   "execution_count": null,
   "id": "cb150280",
   "metadata": {},
   "outputs": [],
   "source": [
    "x = 1\n",
    "while x < 51:\n",
    "    print(x,end=\" \")\n",
    "    x+=2\n",
    "    "
   ]
  },
  {
   "cell_type": "code",
   "execution_count": null,
   "id": "6ac7d732",
   "metadata": {},
   "outputs": [],
   "source": [
    "i = 5\n",
    "while i < 51:\n",
    "    print(i)\n",
    "    i+=5"
   ]
  },
  {
   "cell_type": "code",
   "execution_count": 11,
   "id": "ad6ce85f",
   "metadata": {},
   "outputs": [
    {
     "name": "stdout",
     "output_type": "stream",
     "text": [
      "5\n",
      "10\n",
      "15\n",
      "20\n",
      "25\n",
      "30\n",
      "35\n",
      "40\n",
      "45\n",
      "50\n"
     ]
    }
   ],
   "source": [
    "i = 1\n",
    "while i < 11:\n",
    "    print(i*5)\n",
    "    i+=1"
   ]
  },
  {
   "cell_type": "code",
   "execution_count": null,
   "id": "e53f57fa",
   "metadata": {},
   "outputs": [],
   "source": [
    "# Wap to print Sum of all elements from 1 to 10.\n",
    "i = 1   #value init\n",
    "sum=0  #it a empty variable use to store sum 1,\n",
    "while i<=10: #1,2,3\n",
    "    sum+=i  #sum = sum+i \n",
    "            #    = 0+1.......1\n",
    "            #    = 1+2.......3\n",
    "            #.................6\n",
    "    print(sum)        \n",
    "    i+=1    #i = i+1 =1+1=2,3\n",
    "print(sum)    \n",
    "    "
   ]
  },
  {
   "cell_type": "code",
   "execution_count": null,
   "id": "b6eddfcc",
   "metadata": {},
   "outputs": [],
   "source": [
    "#Wap to print sum of all elements from given list.\n"
   ]
  },
  {
   "cell_type": "code",
   "execution_count": 19,
   "id": "b7a9b155",
   "metadata": {},
   "outputs": [
    {
     "name": "stdout",
     "output_type": "stream",
     "text": [
      "3825\n"
     ]
    }
   ],
   "source": [
    "#Wap to print sum of all elements from 50 to 100..\n",
    "i = 50\n",
    "sum=0\n",
    "while i<101:\n",
    "    sum = sum+i\n",
    "    i+=1\n",
    "print(sum)    "
   ]
  },
  {
   "cell_type": "code",
   "execution_count": 21,
   "id": "b43130cc",
   "metadata": {},
   "outputs": [
    {
     "name": "stdout",
     "output_type": "stream",
     "text": [
      "362880\n"
     ]
    }
   ],
   "source": [
    "#WAp to print multiplication of 200 to 300.\n",
    "x =1\n",
    "mul= 1\n",
    "while x<10:\n",
    "    mul*=x\n",
    "    x+=1\n",
    "print(mul)    "
   ]
  },
  {
   "cell_type": "code",
   "execution_count": 22,
   "id": "bdf53c5e",
   "metadata": {},
   "outputs": [
    {
     "name": "stdout",
     "output_type": "stream",
     "text": [
      "2550\n"
     ]
    }
   ],
   "source": [
    "#WAp to find sum of all envn number from 1 to 100.\n",
    "x = 1\n",
    "sum = 0\n",
    "while x<=100:\n",
    "    if x%2==0:\n",
    "        sum+=x\n",
    "    x+=1\n",
    "print(sum)        "
   ]
  },
  {
   "cell_type": "code",
   "execution_count": 23,
   "id": "e1646a01",
   "metadata": {},
   "outputs": [
    {
     "name": "stdout",
     "output_type": "stream",
     "text": [
      "This is the sum of even numbers : 2550\n",
      "This is the sum of odd numbers : 2500\n"
     ]
    }
   ],
   "source": [
    "x = 1\n",
    "even_sum = 0\n",
    "odd_sum = 0\n",
    "while x<=100:\n",
    "    if x%2==0:\n",
    "        even_sum+=x\n",
    "    else:\n",
    "        odd_sum+=x    \n",
    "    x+=1\n",
    "print(f\"This is the sum of even numbers : {even_sum}\")  \n",
    "print(f\"This is the sum of odd numbers : {odd_sum}\")    \n",
    "     "
   ]
  },
  {
   "cell_type": "code",
   "execution_count": null,
   "id": "bc569108",
   "metadata": {},
   "outputs": [
    {
     "name": "stdout",
     "output_type": "stream",
     "text": [
      "1300\n"
     ]
    }
   ],
   "source": [
    "#Wap to print sum of all numbers from 1 to 100 which are divisible by 4.\n",
    "i = 1\n",
    "sum = 0\n",
    "while i<=100:\n",
    "    if i%4==0:\n",
    "        sum+=i\n",
    "    i+=1\n",
    "print(sum)        \n"
   ]
  },
  {
   "cell_type": "code",
   "execution_count": 27,
   "id": "3b88edeb",
   "metadata": {},
   "outputs": [
    {
     "name": "stdout",
     "output_type": "stream",
     "text": [
      "Login Sucessfully\n"
     ]
    }
   ],
   "source": [
    "password = \"Itpm_Aug\"\n",
    "i = 1\n",
    "while i<=3:\n",
    "    User_password = input(\"Enter your password\")\n",
    "    if User_password==password:\n",
    "        print(\"Login Sucessfully\")\n",
    "        break\n",
    "    else:\n",
    "        print(\"Invalid password\")\n",
    "        i+=1        "
   ]
  },
  {
   "cell_type": "markdown",
   "id": "e92f0b03",
   "metadata": {},
   "source": [
    "WAp for password checker take password dynamically until user press Exit.and After Entering Exit display one massage You have Enter Exit so your attempts are Over.\n"
   ]
  },
  {
   "cell_type": "markdown",
   "id": "e07ebb16",
   "metadata": {},
   "source": [
    "For Loop:\n",
    "Syntax:\n",
    "       for itrative_Variable in Seq/range: \n",
    "EX:\n",
    "    for i in range(1,11)/List1:       "
   ]
  },
  {
   "cell_type": "code",
   "execution_count": 1,
   "id": "f0004e86",
   "metadata": {},
   "outputs": [
    {
     "name": "stdout",
     "output_type": "stream",
     "text": [
      "1\n",
      "2\n",
      "3\n",
      "4\n",
      "5\n",
      "6\n",
      "7\n",
      "8\n",
      "9\n",
      "10\n"
     ]
    }
   ],
   "source": [
    "#Wap to print 1 to 10.\n",
    "for i in range(1,11):\n",
    "    print(i)"
   ]
  },
  {
   "cell_type": "code",
   "execution_count": 2,
   "id": "337ecd5d",
   "metadata": {},
   "outputs": [
    {
     "name": "stdout",
     "output_type": "stream",
     "text": [
      "1 2 3 4 5 6 7 8 9 10 "
     ]
    }
   ],
   "source": [
    "for i in range(1,11):\n",
    "    print(i,end=\" \")\n",
    "    "
   ]
  },
  {
   "cell_type": "code",
   "execution_count": null,
   "id": "e8439b19",
   "metadata": {},
   "outputs": [
    {
     "name": "stdout",
     "output_type": "stream",
     "text": [
      "10\n",
      "9\n",
      "8\n",
      "7\n",
      "6\n",
      "5\n",
      "4\n",
      "3\n",
      "2\n",
      "1\n"
     ]
    }
   ],
   "source": [
    "#WAp to print numbers from 1 to 10 in reverse order.\n",
    "for i in range(10,0,-1): #range(start:end:steps)\n",
    "    print(i)"
   ]
  },
  {
   "cell_type": "code",
   "execution_count": 5,
   "id": "e005af51",
   "metadata": {},
   "outputs": [
    {
     "name": "stdout",
     "output_type": "stream",
     "text": [
      "2\n",
      "4\n",
      "6\n",
      "8\n",
      "10\n"
     ]
    }
   ],
   "source": [
    "#Wap to print even numbers from 1 to 10.\n",
    "for i in range(2,11,2):\n",
    "    print(i)"
   ]
  },
  {
   "cell_type": "code",
   "execution_count": 6,
   "id": "bbabb81c",
   "metadata": {},
   "outputs": [
    {
     "name": "stdout",
     "output_type": "stream",
     "text": [
      "23\n",
      "43\n",
      "32\n",
      "21\n",
      "22\n",
      "65\n",
      "76\n"
     ]
    }
   ],
   "source": [
    "#WAp to print all elements from given list.\n",
    "list1 = [23,43,32,21,22,65,76]\n",
    "for i in list1:\n",
    "    print(i)"
   ]
  },
  {
   "cell_type": "code",
   "execution_count": 7,
   "id": "8331900b",
   "metadata": {},
   "outputs": [
    {
     "name": "stdout",
     "output_type": "stream",
     "text": [
      "I\n",
      " \n",
      "a\n",
      "m\n",
      " \n",
      "f\n",
      "r\n",
      "o\n",
      "m\n",
      " \n",
      "I\n",
      "t\n",
      "p\n",
      "m\n"
     ]
    }
   ],
   "source": [
    "str1 = \"I am from Itpm\"\n",
    "for i in str1:\n",
    "    print(i)"
   ]
  },
  {
   "cell_type": "code",
   "execution_count": 8,
   "id": "bec62b6d",
   "metadata": {},
   "outputs": [
    {
     "name": "stdout",
     "output_type": "stream",
     "text": [
      "32\n",
      "22\n",
      "76\n"
     ]
    }
   ],
   "source": [
    "#Wap to print Even numbers from given list.\n",
    "list1 = [23,43,32,21,22,65,76]\n",
    "for i in list1:\n",
    "    if i%2==0:\n",
    "        print(i)"
   ]
  },
  {
   "cell_type": "code",
   "execution_count": 9,
   "id": "4c379c38",
   "metadata": {},
   "outputs": [
    {
     "name": "stdout",
     "output_type": "stream",
     "text": [
      "[32, 22, 76]\n"
     ]
    }
   ],
   "source": [
    "#WAp to print seperate list of all even numbers from list.\n",
    "list1 = [23,43,32,21,22,65,76]\n",
    "even_list1 = []\n",
    "for i in list1:\n",
    "    if i%2==0:\n",
    "        even_list1.append(i)\n",
    "print(even_list1)        "
   ]
  },
  {
   "cell_type": "code",
   "execution_count": 13,
   "id": "5a5d044b",
   "metadata": {},
   "outputs": [
    {
     "name": "stdout",
     "output_type": "stream",
     "text": [
      "7\n"
     ]
    }
   ],
   "source": [
    "#Wap count to all Vovels in given string.\n",
    "Str2 = \"I like python Programming\" \n",
    "vovels = \"aeiouAEIOU\"\n",
    "vovels_counter = 0 #empty variable to store vovels count\n",
    "for i in Str2:# i = I\n",
    "    if i in vovels: # I in vovels....True\n",
    "        vovels_counter+=1  #counter = 0+1\n",
    "print(vovels_counter)        "
   ]
  },
  {
   "cell_type": "code",
   "execution_count": 12,
   "id": "054778e7",
   "metadata": {},
   "outputs": [
    {
     "name": "stdout",
     "output_type": "stream",
     "text": [
      "True\n"
     ]
    }
   ],
   "source": [
    "Str2 = \"I like python Programming\" \n",
    "print(\"I\" in Str2)"
   ]
  },
  {
   "cell_type": "code",
   "execution_count": 14,
   "id": "437dadfa",
   "metadata": {},
   "outputs": [
    {
     "name": "stdout",
     "output_type": "stream",
     "text": [
      "7\n",
      "['I', 'i', 'e', 'o', 'o', 'a', 'i']\n"
     ]
    }
   ],
   "source": [
    "Str2 = \"I like python Programming\" \n",
    "vovels = \"aeiouAEIOU\"\n",
    "vovels_list = []\n",
    "vovels_counter = 0 #empty variable to store vovels count\n",
    "for i in Str2:# i = I\n",
    "    if i in vovels: # I in vovels....True\n",
    "        vovels_counter+=1  #counter = 0+1\n",
    "        vovels_list.append(i)\n",
    "print(vovels_counter) \n",
    "print(vovels_list)       "
   ]
  },
  {
   "cell_type": "code",
   "execution_count": 16,
   "id": "354134ae",
   "metadata": {},
   "outputs": [
    {
     "name": "stdout",
     "output_type": "stream",
     "text": [
      "7\n",
      "15\n",
      "3\n"
     ]
    }
   ],
   "source": [
    "Str2 = \"I like python Programming\" \n",
    "vovels = \"aeiouAEIOU\"\n",
    "emp_str = \" \"\n",
    "Cons_count=0\n",
    "vovels_counter = 0\n",
    "Space_counter = 0 #empty variable to store vovels count\n",
    "for i in Str2:# i = I\n",
    "    if i in vovels: # I in vovels....True\n",
    "        vovels_counter+=1  #counter = 0+1\n",
    "        vovels_list.append(i)\n",
    "    elif i in emp_str :\n",
    "        Space_counter+=1\n",
    "    else :    \n",
    "        Cons_count+=1\n",
    "print(vovels_counter) \n",
    "print(Cons_count) \n",
    "print(Space_counter)  "
   ]
  },
  {
   "cell_type": "code",
   "execution_count": 2,
   "id": "8de822e5",
   "metadata": {},
   "outputs": [
    {
     "name": "stdout",
     "output_type": "stream",
     "text": [
      "This is given String I like python Programming @ # {} 1 2 3 4\n",
      "The number of Vovels in string 7\n",
      "The number of special char in string 4\n",
      "The number of digita in string 4\n",
      "The number of Consonant in string 15\n"
     ]
    }
   ],
   "source": [
    "Str2 = \"I like python Programming @ # {} 1 2 3 4\" \n",
    "vovels = \"aeiouAEIOU\"\n",
    "Special_char = \"~!@#$%^&*(){}[]|\"\n",
    "digit = \"0123456789\"\n",
    "space = \" \"\n",
    "vovels_counter = 0\n",
    "Space_counter = 0\n",
    "Special_counter = 0\n",
    "digit_counter = 0\n",
    "cons_counter = 0\n",
    "for i in Str2:\n",
    "    if i in vovels :\n",
    "        vovels_counter+=1\n",
    "    elif i in Special_char :\n",
    "        Special_counter+=1\n",
    "    elif i in digit:\n",
    "        digit_counter+=1\n",
    "    elif i in space:\n",
    "        Space_counter+=1\n",
    "    else:\n",
    "        cons_counter+=1\n",
    "print(f\"This is given String {Str2}\")        \n",
    "print(f\"The number of Vovels in string {vovels_counter}\")  \n",
    "print(f\"The number of special char in string {Special_counter}\") \n",
    "print(f\"The number of digita in string {digit_counter}\")  \n",
    "print(f\"The number of Consonant in string {cons_counter}\")  \n",
    "            \n",
    "                "
   ]
  },
  {
   "cell_type": "code",
   "execution_count": 3,
   "id": "46bd0d63",
   "metadata": {},
   "outputs": [
    {
     "name": "stdout",
     "output_type": "stream",
     "text": [
      "76\n"
     ]
    }
   ],
   "source": [
    "#Wap to find highest element from list.\n",
    "list = [32,54,43,32,65,76]\n",
    "print(max(list))"
   ]
  },
  {
   "cell_type": "code",
   "execution_count": 5,
   "id": "4bb415a7",
   "metadata": {},
   "outputs": [
    {
     "name": "stdout",
     "output_type": "stream",
     "text": [
      "76\n"
     ]
    }
   ],
   "source": [
    "list = [32,54,43,33,65,76]\n",
    "High_num = 0 #76\n",
    "for i in list:     #i = 32,54 ,43 ,33,65,76\n",
    "    if i > High_num : #32>0 ,54>32 ,43>54,33>54,65>54,76>65\n",
    "        High_num = i # 54 ,65 ,76\n",
    "print(High_num)        "
   ]
  },
  {
   "cell_type": "code",
   "execution_count": null,
   "id": "e3e42566",
   "metadata": {},
   "outputs": [],
   "source": []
  },
  {
   "cell_type": "code",
   "execution_count": 19,
   "id": "d656e1f0",
   "metadata": {},
   "outputs": [
    {
     "name": "stdout",
     "output_type": "stream",
     "text": [
      "2 3 5 7 11 13 17 19 23 29 31 37 41 43 47 53 59 61 67 71 73 79 83 89 97 "
     ]
    }
   ],
   "source": [
    "#WAp to find prime numbers from 1 to 100.\n",
    "for num in range(2,101):# num=2,3 num = 4 ,num=5\n",
    "    for i in range(2,num):#i = 3(2,3) ,(2,4),(2,5)\n",
    "        if (num%i==0):# num%i=====3%2==0,4%2==0,5%\n",
    "            break\n",
    "    else :\n",
    "        print(num,end=\" \") #2,3\n"
   ]
  },
  {
   "cell_type": "markdown",
   "id": "cae57ebc",
   "metadata": {},
   "source": [
    "num 1 to 50.....................for (1,51)\n",
    "num = 17.......................(2,17)"
   ]
  },
  {
   "cell_type": "code",
   "execution_count": null,
   "id": "2bb16b3b",
   "metadata": {},
   "outputs": [],
   "source": [
    "#WAp to find prime numbers from 1 to 100.\n",
    "for num in range(2,101):# num=2,3 num = 4 ,num=5\n",
    "    for i in range(2,num):#i = 3(2,3) ,(2,4),(2,5)\n",
    "        if (num%i==0):# num%i=====3%2==0,4%2==0,5%\n",
    "            break\n",
    "    else :\n",
    "        print(num,end=\" \") #2,3\n"
   ]
  },
  {
   "cell_type": "code",
   "execution_count": 21,
   "id": "fcfdbb57",
   "metadata": {},
   "outputs": [
    {
     "name": "stdout",
     "output_type": "stream",
     "text": [
      "pop is a palimdrom string\n"
     ]
    }
   ],
   "source": [
    "#Wap Check given string is palimdrom.\n",
    "str3 = input(\"Enter a string\")\n",
    "str4 = str3[::-1]\n",
    "if str3==str4:\n",
    "    print(f\"{str3} is a palimdrom string\")\n",
    "else :\n",
    "    print(f\"{str3} is not Palimdrom String.\")    "
   ]
  },
  {
   "cell_type": "code",
   "execution_count": 24,
   "id": "1f0c5263",
   "metadata": {},
   "outputs": [
    {
     "name": "stdout",
     "output_type": "stream",
     "text": [
      "hello is not Palimdrom string from list1\n",
      "nayan is a palimdrom string from list1\n",
      "pop is a palimdrom string from list1\n",
      "hi is not Palimdrom string from list1\n"
     ]
    }
   ],
   "source": [
    "list1 = [\"hello\",\"nayan\",\"pop\",\"hi\"]\n",
    "for i in list1:\n",
    "    if i==i[::-1]:\n",
    "       print(f\"{i} is a palimdrom string from list1\")\n",
    "    else:\n",
    "        print(f\"{i} is not Palimdrom string from list1\")   "
   ]
  },
  {
   "cell_type": "markdown",
   "id": "a712a48b",
   "metadata": {},
   "source": [
    "eat....ate"
   ]
  },
  {
   "cell_type": "code",
   "execution_count": null,
   "id": "55b341ae",
   "metadata": {},
   "outputs": [
    {
     "ename": "NameError",
     "evalue": "name 'char' is not defined",
     "output_type": "error",
     "traceback": [
      "\u001b[31m---------------------------------------------------------------------------\u001b[39m",
      "\u001b[31mNameError\u001b[39m                                 Traceback (most recent call last)",
      "\u001b[36mCell\u001b[39m\u001b[36m \u001b[39m\u001b[32mIn[25]\u001b[39m\u001b[32m, line 2\u001b[39m\n\u001b[32m      1\u001b[39m str1 = \u001b[33m\"\u001b[39m\u001b[33meat\u001b[39m\u001b[33m\"\u001b[39m\n\u001b[32m----> \u001b[39m\u001b[32m2\u001b[39m \u001b[38;5;28mprint\u001b[39m(\u001b[43mchar\u001b[49m(str1))\n",
      "\u001b[31mNameError\u001b[39m: name 'char' is not defined"
     ]
    }
   ],
   "source": []
  },
  {
   "cell_type": "code",
   "execution_count": null,
   "id": "09f02686",
   "metadata": {},
   "outputs": [
    {
     "data": {
      "text/plain": [
       "['eat']"
      ]
     },
     "execution_count": 27,
     "metadata": {},
     "output_type": "execute_result"
    }
   ],
   "source": [
    "str1 = \"eat\"\n",
    "str1.split()"
   ]
  },
  {
   "cell_type": "code",
   "execution_count": null,
   "id": "259bd672",
   "metadata": {},
   "outputs": [],
   "source": [
    "str1 = \"eat\"\n",
    "str2 = \"ate\""
   ]
  }
 ],
 "metadata": {
  "kernelspec": {
   "display_name": "Python 3",
   "language": "python",
   "name": "python3"
  },
  "language_info": {
   "codemirror_mode": {
    "name": "ipython",
    "version": 3
   },
   "file_extension": ".py",
   "mimetype": "text/x-python",
   "name": "python",
   "nbconvert_exporter": "python",
   "pygments_lexer": "ipython3",
   "version": "3.11.9"
  }
 },
 "nbformat": 4,
 "nbformat_minor": 5
}
