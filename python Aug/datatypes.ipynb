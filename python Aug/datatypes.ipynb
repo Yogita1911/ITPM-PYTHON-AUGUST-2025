{
 "cells": [
  {
   "cell_type": "code",
   "execution_count": 29,
   "id": "85fdd52e",
   "metadata": {},
   "outputs": [
    {
     "name": "stdout",
     "output_type": "stream",
     "text": [
      "5Itpm\n"
     ]
    }
   ],
   "source": [
    "x='5'\n",
    "y=\"Itpm\"\n",
    "print(x+y)"
   ]
  },
  {
   "cell_type": "markdown",
   "id": "c33d3599",
   "metadata": {},
   "source": [
    "Data Type :\n",
    "1.Int\n",
    "2.Float\n",
    "3.Complex\n",
    "4.String\n",
    "5.List\n",
    "6.Set\n",
    "7.Tuple\n",
    "8.Dictionary\n",
    "9.boolen"
   ]
  },
  {
   "cell_type": "code",
   "execution_count": 30,
   "id": "6b3fa131",
   "metadata": {},
   "outputs": [
    {
     "name": "stdout",
     "output_type": "stream",
     "text": [
      "5\n",
      "<class 'int'>\n"
     ]
    }
   ],
   "source": [
    "#int \n",
    "x = 5\n",
    "print(x)\n",
    "print(type(x))"
   ]
  },
  {
   "cell_type": "code",
   "execution_count": null,
   "id": "0e52259e",
   "metadata": {},
   "outputs": [
    {
     "name": "stdout",
     "output_type": "stream",
     "text": [
      "4.0\n",
      "<class 'float'>\n"
     ]
    }
   ],
   "source": [
    "#2.float\n",
    "y=4.0\n",
    "print(y)\n",
    "print(type(y))"
   ]
  },
  {
   "cell_type": "markdown",
   "id": "6796fcf5",
   "metadata": {},
   "source": [
    "#3.String:\n",
    "def : String : \n",
    "                String is a collection of char.which includes char,digit,spe.char,.........\n",
    "                \n",
    "Syntax: we declear sting using '',\" \",''' '''"
   ]
  },
  {
   "cell_type": "code",
   "execution_count": 32,
   "id": "c9f22ac3",
   "metadata": {},
   "outputs": [
    {
     "name": "stdout",
     "output_type": "stream",
     "text": [
      "Jay Tanay  Pratik\n",
      "<class 'str'>\n"
     ]
    }
   ],
   "source": [
    "Name = 'Jay'\n",
    "Name1 =\"Tanay\"\n",
    "Name2 = ''' Pratik'''\n",
    "print(Name,Name1,Name2)\n",
    "print(type(Name))"
   ]
  },
  {
   "cell_type": "code",
   "execution_count": 33,
   "id": "74c18698",
   "metadata": {},
   "outputs": [
    {
     "name": "stdout",
     "output_type": "stream",
     "text": [
      "<class 'str'>\n",
      "5\n"
     ]
    }
   ],
   "source": [
    "x='5'\n",
    "print(type(x))\n",
    "print(x)"
   ]
  },
  {
   "cell_type": "code",
   "execution_count": 34,
   "id": "bd6649fc",
   "metadata": {},
   "outputs": [
    {
     "name": "stdout",
     "output_type": "stream",
     "text": [
      "I Am From Itpm Aug.\n"
     ]
    }
   ],
   "source": [
    "Std_info = \"I Am From Itpm Aug.\"\n",
    "print(Std_info)"
   ]
  },
  {
   "cell_type": "code",
   "execution_count": 35,
   "id": "c729c094",
   "metadata": {},
   "outputs": [
    {
     "name": "stdout",
     "output_type": "stream",
     "text": [
      "123 Python Programming @ % & { } \n"
     ]
    }
   ],
   "source": [
    "Info = '123 Python Programming @ % & { } '\n",
    "print(Info)"
   ]
  },
  {
   "cell_type": "markdown",
   "id": "b12b5128",
   "metadata": {},
   "source": [
    "4.List :\n",
    "        List is a collection of Heterogenius elements,Which contain duplicates, which are ordered collection of elements,mutable in nature.\n",
    "\n",
    "Syntax:\n",
    "List name = []\n",
    "ex: :L1 = [1,2,3,4,5]"
   ]
  },
  {
   "cell_type": "code",
   "execution_count": 36,
   "id": "0c7f615c",
   "metadata": {},
   "outputs": [
    {
     "name": "stdout",
     "output_type": "stream",
     "text": [
      "[1, 2, 3, 4, 5]\n"
     ]
    }
   ],
   "source": [
    "#4.List:\n",
    "L1 =  [1,2,3,4,5]\n",
    "print(L1)"
   ]
  },
  {
   "cell_type": "code",
   "execution_count": 37,
   "id": "abc45bb0",
   "metadata": {},
   "outputs": [
    {
     "name": "stdout",
     "output_type": "stream",
     "text": [
      "<class 'str'>\n"
     ]
    }
   ],
   "source": [
    "L2 = '[1,2,3,4,5]'\n",
    "print(type(L2))"
   ]
  },
  {
   "cell_type": "code",
   "execution_count": 38,
   "id": "ebdd21ee",
   "metadata": {},
   "outputs": [
    {
     "name": "stdout",
     "output_type": "stream",
     "text": [
      "<class 'list'>\n"
     ]
    }
   ],
   "source": [
    "L3 = [\"Chhaya\",\"Pallavi\",\"Urvashi\",\"Riya\"]\n",
    "print(type(L3))"
   ]
  },
  {
   "cell_type": "code",
   "execution_count": 39,
   "id": "c6c08826",
   "metadata": {},
   "outputs": [
    {
     "name": "stdout",
     "output_type": "stream",
     "text": [
      "[1, 3.4, 'Jay', 2]\n"
     ]
    }
   ],
   "source": [
    "#List is a collection of Heterogenous .\n",
    "L5 = [1,3.4,'Jay',2]\n",
    "print(L5)"
   ]
  },
  {
   "cell_type": "code",
   "execution_count": 40,
   "id": "e2553f29",
   "metadata": {},
   "outputs": [
    {
     "name": "stdout",
     "output_type": "stream",
     "text": [
      "[1, 1, 1, 1, 1]\n"
     ]
    }
   ],
   "source": [
    "#List Contain Duplicate Elements \n",
    "L6 = [1,1,1,1,1]\n",
    "print(L6)"
   ]
  },
  {
   "cell_type": "code",
   "execution_count": 41,
   "id": "1185c3b6",
   "metadata": {},
   "outputs": [
    {
     "name": "stdout",
     "output_type": "stream",
     "text": [
      "[1, 2, 3, 4, 5, 6, 7]\n"
     ]
    }
   ],
   "source": [
    "#List is mutable in nature.\n",
    "L1 = [1,2,3,4,5,6]\n",
    "L1.append(7)\n",
    "print(L1)"
   ]
  },
  {
   "cell_type": "markdown",
   "id": "63de9486",
   "metadata": {},
   "source": [
    "5.Set : is collection of unique elements,which are unordered in nature.\n",
    "Synatx:\n",
    "Ex: s1 = {1,2,3,4,5}"
   ]
  },
  {
   "cell_type": "code",
   "execution_count": 42,
   "id": "932dc05f",
   "metadata": {},
   "outputs": [
    {
     "name": "stdout",
     "output_type": "stream",
     "text": [
      "{1, 2, 3, 4, 5}\n"
     ]
    }
   ],
   "source": [
    "#Set:\n",
    "S1 = {1,2,3,4,5}\n",
    "print(S1)"
   ]
  },
  {
   "cell_type": "code",
   "execution_count": 43,
   "id": "233afeac",
   "metadata": {},
   "outputs": [
    {
     "name": "stdout",
     "output_type": "stream",
     "text": [
      "{1}\n"
     ]
    }
   ],
   "source": [
    "#Set is collection of unique Elements.\n",
    "S2 = {1,1,1,1,1}\n",
    "print(S2)"
   ]
  },
  {
   "cell_type": "code",
   "execution_count": 44,
   "id": "deaf6075",
   "metadata": {},
   "outputs": [],
   "source": [
    "#List is ordered collection of Elements."
   ]
  },
  {
   "cell_type": "code",
   "execution_count": null,
   "id": "fe7ab666",
   "metadata": {},
   "outputs": [
    {
     "name": "stdout",
     "output_type": "stream",
     "text": [
      "False\n"
     ]
    }
   ],
   "source": [
    "#List is a ordered collection of elements.\n",
    "L1 = [1,2,3,4,5]\n",
    "L2 = [2,3,1,4,5]\n",
    "print(L1==L2)"
   ]
  },
  {
   "cell_type": "code",
   "execution_count": null,
   "id": "6f94dafe",
   "metadata": {},
   "outputs": [
    {
     "name": "stdout",
     "output_type": "stream",
     "text": [
      "True\n"
     ]
    }
   ],
   "source": [
    "#Set is unordered collection of elements.\n",
    "s1 = {1,2,3,4,5}\n",
    "s2 = {2,3,4,1,5}\n",
    "print(s1==s2)"
   ]
  },
  {
   "cell_type": "markdown",
   "id": "f8d83043",
   "metadata": {},
   "source": [
    "6.Tuple : is similar to the list but it immutable in nature.\n",
    "tuple_name = ( )\n",
    "ex:t1 = (1,2,3)"
   ]
  },
  {
   "cell_type": "code",
   "execution_count": 24,
   "id": "264755bf",
   "metadata": {},
   "outputs": [
    {
     "name": "stdout",
     "output_type": "stream",
     "text": [
      "(1, 2, 3, 4, 5)\n"
     ]
    }
   ],
   "source": [
    "#Tuple :\n",
    "T1 = (1,2,3,4,5)\n",
    "print(T1)"
   ]
  },
  {
   "cell_type": "code",
   "execution_count": 25,
   "id": "15c5d471",
   "metadata": {},
   "outputs": [
    {
     "name": "stdout",
     "output_type": "stream",
     "text": [
      "(1, 3.4, 5, 5.5, 'Python')\n"
     ]
    }
   ],
   "source": [
    "T2 = (1,3.4,5,5.5,\"Python\")\n",
    "print(T2)"
   ]
  },
  {
   "cell_type": "code",
   "execution_count": 26,
   "id": "6592f352",
   "metadata": {},
   "outputs": [
    {
     "name": "stdout",
     "output_type": "stream",
     "text": [
      "(1, 1, 2, 3, 3, 4)\n"
     ]
    }
   ],
   "source": [
    "T3 = (1,1,2,3,3,4)\n",
    "print(T3)"
   ]
  },
  {
   "cell_type": "code",
   "execution_count": 27,
   "id": "c8f779fa",
   "metadata": {},
   "outputs": [
    {
     "name": "stdout",
     "output_type": "stream",
     "text": [
      "False\n"
     ]
    }
   ],
   "source": [
    "T4 = (2,3,4)\n",
    "T5 = (3,4,2)\n",
    "print(T4==T5)   "
   ]
  },
  {
   "cell_type": "code",
   "execution_count": 28,
   "id": "62577ac5",
   "metadata": {},
   "outputs": [
    {
     "ename": "AttributeError",
     "evalue": "'tuple' object has no attribute 'append'",
     "output_type": "error",
     "traceback": [
      "\u001b[31m---------------------------------------------------------------------------\u001b[39m",
      "\u001b[31mAttributeError\u001b[39m                            Traceback (most recent call last)",
      "\u001b[36mCell\u001b[39m\u001b[36m \u001b[39m\u001b[32mIn[28]\u001b[39m\u001b[32m, line 2\u001b[39m\n\u001b[32m      1\u001b[39m T6 = (\u001b[32m1\u001b[39m,\u001b[32m2\u001b[39m,\u001b[32m3\u001b[39m,\u001b[32m4\u001b[39m,\u001b[32m5\u001b[39m)\n\u001b[32m----> \u001b[39m\u001b[32m2\u001b[39m \u001b[43mT6\u001b[49m\u001b[43m.\u001b[49m\u001b[43mappend\u001b[49m(\u001b[32m6\u001b[39m)\n\u001b[32m      3\u001b[39m \u001b[38;5;28mprint\u001b[39m(T6)\n",
      "\u001b[31mAttributeError\u001b[39m: 'tuple' object has no attribute 'append'"
     ]
    }
   ],
   "source": [
    "T6 = (1,2,3,4,5)\n",
    "T6.append(6)\n",
    "print(T6)"
   ]
  },
  {
   "cell_type": "markdown",
   "id": "fe7ab26d",
   "metadata": {},
   "source": [
    "7.Dictionary : is a collection of different type of elements which are represent in the formate of keys and value."
   ]
  },
  {
   "cell_type": "code",
   "execution_count": null,
   "id": "570ea255",
   "metadata": {},
   "outputs": [
    {
     "name": "stdout",
     "output_type": "stream",
     "text": [
      "{'Name': 'Riya', 101: 'Empid'}\n"
     ]
    }
   ],
   "source": [
    "#7.Dictionary:\n",
    "dict = {\"Name\":\"Riya\",101 : \"Empid\"}\n",
    "print(dict)"
   ]
  },
  {
   "cell_type": "code",
   "execution_count": 46,
   "id": "0a7b3eee",
   "metadata": {},
   "outputs": [
    {
     "name": "stdout",
     "output_type": "stream",
     "text": [
      "True\n"
     ]
    }
   ],
   "source": [
    "#8.boolen:\n",
    "x = True\n",
    "print(x)"
   ]
  },
  {
   "cell_type": "code",
   "execution_count": 48,
   "id": "39908add",
   "metadata": {},
   "outputs": [
    {
     "name": "stdout",
     "output_type": "stream",
     "text": [
      "(2+3j)\n",
      "<class 'complex'>\n"
     ]
    }
   ],
   "source": [
    "#9.Complex \n",
    "x = 2+3j\n",
    "print(x)\n",
    "print(type(x))"
   ]
  },
  {
   "cell_type": "code",
   "execution_count": 50,
   "id": "4c2e4bfc",
   "metadata": {},
   "outputs": [
    {
     "name": "stdout",
     "output_type": "stream",
     "text": [
      "(6+3j)\n"
     ]
    }
   ],
   "source": [
    "y = 3j+6\n",
    "print(y)"
   ]
  }
 ],
 "metadata": {
  "kernelspec": {
   "display_name": "Python 3",
   "language": "python",
   "name": "python3"
  },
  "language_info": {
   "codemirror_mode": {
    "name": "ipython",
    "version": 3
   },
   "file_extension": ".py",
   "mimetype": "text/x-python",
   "name": "python",
   "nbconvert_exporter": "python",
   "pygments_lexer": "ipython3",
   "version": "3.11.9"
  }
 },
 "nbformat": 4,
 "nbformat_minor": 5
}
