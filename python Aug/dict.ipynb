{
 "cells": [
  {
   "cell_type": "markdown",
   "id": "6f594b1a",
   "metadata": {},
   "source": [
    "Dict."
   ]
  },
  {
   "cell_type": "code",
   "execution_count": 2,
   "id": "50392af1",
   "metadata": {},
   "outputs": [],
   "source": [
    "dict1 = {101 :\" Kiran\",\n",
    "         102 :\"Karan\"\n",
    "         }"
   ]
  },
  {
   "cell_type": "code",
   "execution_count": 3,
   "id": "2df0c5fd",
   "metadata": {},
   "outputs": [
    {
     "ename": "AttributeError",
     "evalue": "'dict' object has no attribute 'append'",
     "output_type": "error",
     "traceback": [
      "\u001b[31m---------------------------------------------------------------------------\u001b[39m",
      "\u001b[31mAttributeError\u001b[39m                            Traceback (most recent call last)",
      "\u001b[36mCell\u001b[39m\u001b[36m \u001b[39m\u001b[32mIn[3]\u001b[39m\u001b[32m, line 1\u001b[39m\n\u001b[32m----> \u001b[39m\u001b[32m1\u001b[39m \u001b[43mdict1\u001b[49m\u001b[43m.\u001b[49m\u001b[43mappend\u001b[49m({\u001b[32m103\u001b[39m:\u001b[33m\"\u001b[39m\u001b[33mShubham\u001b[39m\u001b[33m\"\u001b[39m})\n\u001b[32m      2\u001b[39m dict1\n",
      "\u001b[31mAttributeError\u001b[39m: 'dict' object has no attribute 'append'"
     ]
    }
   ],
   "source": [
    "dict1.append({103:\"Shubham\"})\n",
    "dict1"
   ]
  },
  {
   "cell_type": "code",
   "execution_count": 4,
   "id": "3ae263d5",
   "metadata": {},
   "outputs": [
    {
     "ename": "AttributeError",
     "evalue": "'dict' object has no attribute 'add'",
     "output_type": "error",
     "traceback": [
      "\u001b[31m---------------------------------------------------------------------------\u001b[39m",
      "\u001b[31mAttributeError\u001b[39m                            Traceback (most recent call last)",
      "\u001b[36mCell\u001b[39m\u001b[36m \u001b[39m\u001b[32mIn[4]\u001b[39m\u001b[32m, line 1\u001b[39m\n\u001b[32m----> \u001b[39m\u001b[32m1\u001b[39m \u001b[43mdict1\u001b[49m\u001b[43m.\u001b[49m\u001b[43madd\u001b[49m({\u001b[32m103\u001b[39m:\u001b[33m\"\u001b[39m\u001b[33mShubham\u001b[39m\u001b[33m\"\u001b[39m})\n\u001b[32m      2\u001b[39m dict1\n",
      "\u001b[31mAttributeError\u001b[39m: 'dict' object has no attribute 'add'"
     ]
    }
   ],
   "source": [
    "dict1.add({103:\"Shubham\"})\n",
    "dict1"
   ]
  },
  {
   "cell_type": "code",
   "execution_count": 5,
   "id": "7767b155",
   "metadata": {},
   "outputs": [
    {
     "ename": "AttributeError",
     "evalue": "'dict' object has no attribute 'insert'",
     "output_type": "error",
     "traceback": [
      "\u001b[31m---------------------------------------------------------------------------\u001b[39m",
      "\u001b[31mAttributeError\u001b[39m                            Traceback (most recent call last)",
      "\u001b[36mCell\u001b[39m\u001b[36m \u001b[39m\u001b[32mIn[5]\u001b[39m\u001b[32m, line 1\u001b[39m\n\u001b[32m----> \u001b[39m\u001b[32m1\u001b[39m \u001b[43mdict1\u001b[49m\u001b[43m.\u001b[49m\u001b[43minsert\u001b[49m({\u001b[32m103\u001b[39m:\u001b[33m\"\u001b[39m\u001b[33mShubham\u001b[39m\u001b[33m\"\u001b[39m})\n\u001b[32m      2\u001b[39m dict1\n",
      "\u001b[31mAttributeError\u001b[39m: 'dict' object has no attribute 'insert'"
     ]
    }
   ],
   "source": [
    "dict1.insert({103:\"Shubham\"})\n",
    "dict1"
   ]
  },
  {
   "cell_type": "code",
   "execution_count": 6,
   "id": "83263468",
   "metadata": {},
   "outputs": [
    {
     "data": {
      "text/plain": [
       "{101: ' Kiran', 102: 'Karan', 103: 'Shubham'}"
      ]
     },
     "execution_count": 6,
     "metadata": {},
     "output_type": "execute_result"
    }
   ],
   "source": [
    "dict1.update({103:\"Shubham\"})\n",
    "dict1"
   ]
  },
  {
   "cell_type": "code",
   "execution_count": 7,
   "id": "f9e09ea2",
   "metadata": {},
   "outputs": [
    {
     "name": "stdout",
     "output_type": "stream",
     "text": [
      "{101: ' Kiran', 102: 'Karan', 103: 'Amol'}\n"
     ]
    }
   ],
   "source": [
    "dict1.update({103:\"Amol\"})\n",
    "print(dict1)"
   ]
  },
  {
   "cell_type": "code",
   "execution_count": 8,
   "id": "8608985d",
   "metadata": {},
   "outputs": [
    {
     "data": {
      "text/plain": [
       "{101: ' Kiran', 102: 'Karan', 103: 'Amol', 104: 'Amol'}"
      ]
     },
     "execution_count": 8,
     "metadata": {},
     "output_type": "execute_result"
    }
   ],
   "source": [
    "dict1.update({104:\"Amol\"})\n",
    "dict1"
   ]
  },
  {
   "cell_type": "code",
   "execution_count": 1,
   "id": "a060eae5",
   "metadata": {},
   "outputs": [
    {
     "name": "stdout",
     "output_type": "stream",
     "text": [
      "{'Name': ['Shubham', 'Shardha', 'Shruti'], 101: 'I am from Python batch'}\n"
     ]
    }
   ],
   "source": [
    "dict1 = {\"Name\":[\"Shubham\",\"Shardha\",\"Shruti\"],\n",
    "           101: \"I am from Python batch\"}\n",
    "print(dict1)"
   ]
  },
  {
   "cell_type": "code",
   "execution_count": 2,
   "id": "4cc8ecb8",
   "metadata": {},
   "outputs": [
    {
     "data": {
      "text/plain": [
       "{101.1: 'yogita'}"
      ]
     },
     "execution_count": 2,
     "metadata": {},
     "output_type": "execute_result"
    }
   ],
   "source": [
    "dict2 = {101.1:\"yogita\"}\n",
    "dict2"
   ]
  },
  {
   "cell_type": "code",
   "execution_count": 3,
   "id": "7f8f8d48",
   "metadata": {},
   "outputs": [
    {
     "ename": "TypeError",
     "evalue": "unhashable type: 'list'",
     "output_type": "error",
     "traceback": [
      "\u001b[31m---------------------------------------------------------------------------\u001b[39m",
      "\u001b[31mTypeError\u001b[39m                                 Traceback (most recent call last)",
      "\u001b[36mCell\u001b[39m\u001b[36m \u001b[39m\u001b[32mIn[3]\u001b[39m\u001b[32m, line 1\u001b[39m\n\u001b[32m----> \u001b[39m\u001b[32m1\u001b[39m dict3 = {[\u001b[32m1\u001b[39m,\u001b[32m2\u001b[39m,\u001b[32m3\u001b[39m]:\u001b[33m\"\u001b[39m\u001b[33mThese are ids of emp\u001b[39m\u001b[33m\"\u001b[39m}\n\u001b[32m      2\u001b[39m \u001b[38;5;28mprint\u001b[39m(dict3)\n",
      "\u001b[31mTypeError\u001b[39m: unhashable type: 'list'"
     ]
    }
   ],
   "source": [
    "dict3 = {[1,2,3]:\"These are ids of emp\"}\n",
    "print(dict3)"
   ]
  },
  {
   "cell_type": "code",
   "execution_count": 4,
   "id": "53f12154",
   "metadata": {},
   "outputs": [
    {
     "data": {
      "text/plain": [
       "{(1, 2): 'ydeudd'}"
      ]
     },
     "execution_count": 4,
     "metadata": {},
     "output_type": "execute_result"
    }
   ],
   "source": [
    "dict4 = {(1,2):\"ydeudd\"}\n",
    "dict4"
   ]
  },
  {
   "cell_type": "code",
   "execution_count": 5,
   "id": "39524efb",
   "metadata": {},
   "outputs": [
    {
     "ename": "TypeError",
     "evalue": "unhashable type: 'set'",
     "output_type": "error",
     "traceback": [
      "\u001b[31m---------------------------------------------------------------------------\u001b[39m",
      "\u001b[31mTypeError\u001b[39m                                 Traceback (most recent call last)",
      "\u001b[36mCell\u001b[39m\u001b[36m \u001b[39m\u001b[32mIn[5]\u001b[39m\u001b[32m, line 1\u001b[39m\n\u001b[32m----> \u001b[39m\u001b[32m1\u001b[39m dict5 = {{\u001b[32m1\u001b[39m,\u001b[32m2\u001b[39m}:\u001b[33m\"\u001b[39m\u001b[33mPython\u001b[39m\u001b[33m\"\u001b[39m}\n\u001b[32m      2\u001b[39m \u001b[38;5;28mprint\u001b[39m(dict5)\n",
      "\u001b[31mTypeError\u001b[39m: unhashable type: 'set'"
     ]
    }
   ],
   "source": [
    "dict5 = {{1,2}:\"Python\"}\n",
    "print(dict5)"
   ]
  },
  {
   "cell_type": "code",
   "execution_count": 6,
   "id": "a2f0fafd",
   "metadata": {},
   "outputs": [
    {
     "name": "stdout",
     "output_type": "stream",
     "text": [
      "{101: [1, 2, 3, 4, 5], 'Subject': ['Python', 'UI', 'apti'], 'Test': [2, 4, 6]}\n"
     ]
    }
   ],
   "source": [
    "dict6 = {101:[1,2,3,4,5],\n",
    "         \"Subject\":[\"Python\",\"UI\",\"apti\"],\n",
    "         \"Test\" :[2,4,6]}\n",
    "print(dict6)"
   ]
  },
  {
   "cell_type": "code",
   "execution_count": 7,
   "id": "9c299938",
   "metadata": {},
   "outputs": [
    {
     "name": "stdout",
     "output_type": "stream",
     "text": [
      "{101: [1, 2, 3, 4, 5], 'Subject': ['Python', 'UI', 'apti'], 'Test': [2, 4, 6], 'marks': [50, 100, 200]}\n"
     ]
    }
   ],
   "source": [
    "#modify dict \n",
    "dict6.update({\"marks\":[50,100,200]})\n",
    "print(dict6)"
   ]
  },
  {
   "cell_type": "code",
   "execution_count": 8,
   "id": "3171b5ef",
   "metadata": {},
   "outputs": [
    {
     "name": "stdout",
     "output_type": "stream",
     "text": [
      "{101: [1, 2, 3, 4, 5], 'Subject': ['Python', 'UI', 'apti'], 'Test': [2, 4, 6], 'marks': [50, 100, 200], 'Grade': ['A', 'B', 'C'], 'Trainers': ['Yogita', 'Sachin', 'Nikita']}\n"
     ]
    }
   ],
   "source": [
    "dict6.update({\"Grade\":[\"A\",\"B\",\"C\"],\"Trainers\":[\"Yogita\",\"Sachin\",\"Nikita\"]})\n",
    "print(dict6)"
   ]
  },
  {
   "cell_type": "code",
   "execution_count": 9,
   "id": "4e9f400b",
   "metadata": {},
   "outputs": [
    {
     "data": {
      "text/plain": [
       "dict_keys([101, 'Subject', 'Test', 'marks', 'Grade', 'Trainers'])"
      ]
     },
     "execution_count": 9,
     "metadata": {},
     "output_type": "execute_result"
    }
   ],
   "source": [
    "dict6.keys()"
   ]
  },
  {
   "cell_type": "code",
   "execution_count": 10,
   "id": "2f570588",
   "metadata": {},
   "outputs": [
    {
     "data": {
      "text/plain": [
       "dict_values([[1, 2, 3, 4, 5], ['Python', 'UI', 'apti'], [2, 4, 6], [50, 100, 200], ['A', 'B', 'C'], ['Yogita', 'Sachin', 'Nikita']])"
      ]
     },
     "execution_count": 10,
     "metadata": {},
     "output_type": "execute_result"
    }
   ],
   "source": [
    "dict6.values()"
   ]
  },
  {
   "cell_type": "code",
   "execution_count": 11,
   "id": "75cede1b",
   "metadata": {},
   "outputs": [
    {
     "name": "stdout",
     "output_type": "stream",
     "text": [
      "{101: [1, 2, 3, 4, 5], 'Subject': ['Python', 'UI', 'apti'], 'Test': [2, 4, 6], 'marks': [50, 100, 200], 'Grade': ['A', 'B', 'C'], 'Trainers': ['Yogita', 'Sachin', 'Nikita']}\n"
     ]
    }
   ],
   "source": [
    "print(dict6)"
   ]
  },
  {
   "cell_type": "code",
   "execution_count": 12,
   "id": "37048ba5",
   "metadata": {},
   "outputs": [
    {
     "data": {
      "text/plain": [
       "{101: [1, 2, 3, 4, 5],\n",
       " 'Subject': ['Python', 'UI', 'apti'],\n",
       " 'Test': [2, 4, 6],\n",
       " 'marks': [50, 100, 200],\n",
       " 'Grade': ['A', 'B', 'C'],\n",
       " 'Trainers': ['Yogita', 'Sachin', 'Nikita']}"
      ]
     },
     "execution_count": 12,
     "metadata": {},
     "output_type": "execute_result"
    }
   ],
   "source": [
    "dict6"
   ]
  },
  {
   "cell_type": "code",
   "execution_count": 13,
   "id": "30ca540f",
   "metadata": {},
   "outputs": [
    {
     "data": {
      "text/plain": [
       "6"
      ]
     },
     "execution_count": 13,
     "metadata": {},
     "output_type": "execute_result"
    }
   ],
   "source": [
    "len(dict6)\n"
   ]
  },
  {
   "cell_type": "code",
   "execution_count": 14,
   "id": "58948469",
   "metadata": {},
   "outputs": [
    {
     "data": {
      "text/plain": [
       "{101: [1, 2, 3, 4, 5],\n",
       " 'Subject': ['Python', 'UI', 'apti'],\n",
       " 'Test': [2, 4, 6],\n",
       " 'marks': [50, 100, 200],\n",
       " 'Grade': ['A', 'B', 'C'],\n",
       " 'Trainers': ['Yogita', 'Sachin', 'Nikita']}"
      ]
     },
     "execution_count": 14,
     "metadata": {},
     "output_type": "execute_result"
    }
   ],
   "source": [
    "dict6"
   ]
  },
  {
   "cell_type": "code",
   "execution_count": 15,
   "id": "1d4d9177",
   "metadata": {},
   "outputs": [
    {
     "ename": "KeyError",
     "evalue": "3",
     "output_type": "error",
     "traceback": [
      "\u001b[31m---------------------------------------------------------------------------\u001b[39m",
      "\u001b[31mKeyError\u001b[39m                                  Traceback (most recent call last)",
      "\u001b[36mCell\u001b[39m\u001b[36m \u001b[39m\u001b[32mIn[15]\u001b[39m\u001b[32m, line 1\u001b[39m\n\u001b[32m----> \u001b[39m\u001b[32m1\u001b[39m \u001b[38;5;28mprint\u001b[39m(\u001b[43mdict6\u001b[49m\u001b[43m[\u001b[49m\u001b[32;43m3\u001b[39;49m\u001b[43m]\u001b[49m)\n",
      "\u001b[31mKeyError\u001b[39m: 3"
     ]
    }
   ],
   "source": [
    "print(dict6[3])\n"
   ]
  },
  {
   "cell_type": "code",
   "execution_count": 16,
   "id": "45b1c4a9",
   "metadata": {},
   "outputs": [
    {
     "name": "stdout",
     "output_type": "stream",
     "text": [
      "[50, 100, 200]\n"
     ]
    }
   ],
   "source": [
    "print(dict6[\"marks\"])"
   ]
  },
  {
   "cell_type": "code",
   "execution_count": 17,
   "id": "1cccf162",
   "metadata": {},
   "outputs": [
    {
     "ename": "KeyError",
     "evalue": "('Test', 'marks')",
     "output_type": "error",
     "traceback": [
      "\u001b[31m---------------------------------------------------------------------------\u001b[39m",
      "\u001b[31mKeyError\u001b[39m                                  Traceback (most recent call last)",
      "\u001b[36mCell\u001b[39m\u001b[36m \u001b[39m\u001b[32mIn[17]\u001b[39m\u001b[32m, line 1\u001b[39m\n\u001b[32m----> \u001b[39m\u001b[32m1\u001b[39m \u001b[38;5;28mprint\u001b[39m(\u001b[43mdict6\u001b[49m\u001b[43m[\u001b[49m\u001b[33;43m\"\u001b[39;49m\u001b[33;43mTest\u001b[39;49m\u001b[33;43m\"\u001b[39;49m\u001b[43m,\u001b[49m\u001b[33;43m\"\u001b[39;49m\u001b[33;43mmarks\u001b[39;49m\u001b[33;43m\"\u001b[39;49m\u001b[43m]\u001b[49m)\n",
      "\u001b[31mKeyError\u001b[39m: ('Test', 'marks')"
     ]
    }
   ],
   "source": [
    "print(dict6[\"Test\",\"marks\"])"
   ]
  },
  {
   "cell_type": "code",
   "execution_count": null,
   "id": "0ffa4ef9",
   "metadata": {},
   "outputs": [
    {
     "name": "stdout",
     "output_type": "stream",
     "text": [
      "[2, 4, 6] [50, 100, 200]\n"
     ]
    }
   ],
   "source": [
    "\n",
    "print(dict6[\"Test\"],dict6[\"marks\"])"
   ]
  },
  {
   "cell_type": "code",
   "execution_count": null,
   "id": "e81ac8b3",
   "metadata": {},
   "outputs": [
    {
     "ename": "KeyError",
     "evalue": "'test'",
     "output_type": "error",
     "traceback": [
      "\u001b[31m---------------------------------------------------------------------------\u001b[39m",
      "\u001b[31mKeyError\u001b[39m                                  Traceback (most recent call last)",
      "\u001b[36mCell\u001b[39m\u001b[36m \u001b[39m\u001b[32mIn[19]\u001b[39m\u001b[32m, line 1\u001b[39m\n\u001b[32m----> \u001b[39m\u001b[32m1\u001b[39m \u001b[38;5;28mprint\u001b[39m(\u001b[43mdict6\u001b[49m\u001b[43m[\u001b[49m\u001b[33;43m\"\u001b[39;49m\u001b[33;43mtest\u001b[39;49m\u001b[33;43m\"\u001b[39;49m\u001b[43m]\u001b[49m)\n",
      "\u001b[31mKeyError\u001b[39m: 'test'"
     ]
    }
   ],
   "source": [
    "#key names are case sensetive\n",
    "print(dict6[\"test\"])\n"
   ]
  },
  {
   "cell_type": "code",
   "execution_count": 21,
   "id": "33f386d5",
   "metadata": {},
   "outputs": [
    {
     "name": "stdout",
     "output_type": "stream",
     "text": [
      "True\n"
     ]
    }
   ],
   "source": [
    "print(\"Test\" in dict6)"
   ]
  },
  {
   "cell_type": "code",
   "execution_count": 22,
   "id": "78539389",
   "metadata": {},
   "outputs": [
    {
     "data": {
      "text/plain": [
       "{101: [1, 2, 3, 4, 5],\n",
       " 'Subject': ['Python', 'UI', 'apti'],\n",
       " 'Test': [2, 4, 6],\n",
       " 'marks': [50, 100, 200],\n",
       " 'Grade': ['A', 'B', 'C'],\n",
       " 'Trainers': ['Yogita', 'Sachin', 'Nikita']}"
      ]
     },
     "execution_count": 22,
     "metadata": {},
     "output_type": "execute_result"
    }
   ],
   "source": [
    "dict6"
   ]
  },
  {
   "cell_type": "code",
   "execution_count": 24,
   "id": "5ef92cfc",
   "metadata": {},
   "outputs": [
    {
     "data": {
      "text/plain": [
       "{101: [1, 2, 3, 4, 5],\n",
       " 'Subject': ['Python', 'UI', 'apti'],\n",
       " 'Test': [2, 4, 6],\n",
       " 'marks': [50, 100, 200],\n",
       " 'Grade': ['A', 'B', 'C']}"
      ]
     },
     "execution_count": 24,
     "metadata": {},
     "output_type": "execute_result"
    }
   ],
   "source": [
    "dict6.pop(\"Trainers\")\n",
    "dict6"
   ]
  },
  {
   "cell_type": "code",
   "execution_count": 26,
   "id": "a600828a",
   "metadata": {},
   "outputs": [
    {
     "data": {
      "text/plain": [
       "[1, 2, 4, 5, 6]"
      ]
     },
     "execution_count": 26,
     "metadata": {},
     "output_type": "execute_result"
    }
   ],
   "source": [
    "l1 = [1,2,3,4,5,6]\n",
    "l1.remove(3)\n",
    "l1"
   ]
  },
  {
   "cell_type": "code",
   "execution_count": 27,
   "id": "d61d18b8",
   "metadata": {},
   "outputs": [
    {
     "data": {
      "text/plain": [
       "{'Name': ['Shubham', 'Shardha', 'Shruti'], 101: 'I am from Python batch'}"
      ]
     },
     "execution_count": 27,
     "metadata": {},
     "output_type": "execute_result"
    }
   ],
   "source": [
    "dict1 "
   ]
  },
  {
   "cell_type": "code",
   "execution_count": 28,
   "id": "744c83c9",
   "metadata": {},
   "outputs": [
    {
     "data": {
      "text/plain": [
       "{}"
      ]
     },
     "execution_count": 28,
     "metadata": {},
     "output_type": "execute_result"
    }
   ],
   "source": [
    "dict1.clear()\n",
    "dict1"
   ]
  },
  {
   "cell_type": "code",
   "execution_count": 29,
   "id": "d997e0b6",
   "metadata": {},
   "outputs": [],
   "source": [
    "del dict1 "
   ]
  },
  {
   "cell_type": "code",
   "execution_count": 30,
   "id": "47091f30",
   "metadata": {},
   "outputs": [
    {
     "ename": "NameError",
     "evalue": "name 'dict1' is not defined",
     "output_type": "error",
     "traceback": [
      "\u001b[31m---------------------------------------------------------------------------\u001b[39m",
      "\u001b[31mNameError\u001b[39m                                 Traceback (most recent call last)",
      "\u001b[36mCell\u001b[39m\u001b[36m \u001b[39m\u001b[32mIn[30]\u001b[39m\u001b[32m, line 1\u001b[39m\n\u001b[32m----> \u001b[39m\u001b[32m1\u001b[39m \u001b[43mdict1\u001b[49m\n",
      "\u001b[31mNameError\u001b[39m: name 'dict1' is not defined"
     ]
    }
   ],
   "source": [
    "dict1"
   ]
  },
  {
   "cell_type": "code",
   "execution_count": 31,
   "id": "f4bb1ae0",
   "metadata": {},
   "outputs": [
    {
     "data": {
      "text/plain": [
       "{101: [1, 2, 3, 4, 5],\n",
       " 'Subject': ['Python', 'UI', 'apti'],\n",
       " 'Test': [2, 4, 6],\n",
       " 'marks': [50, 100, 200],\n",
       " 'Grade': ['A', 'B', 'C']}"
      ]
     },
     "execution_count": 31,
     "metadata": {},
     "output_type": "execute_result"
    }
   ],
   "source": [
    "dict6"
   ]
  },
  {
   "cell_type": "code",
   "execution_count": 37,
   "id": "ada64a88",
   "metadata": {},
   "outputs": [
    {
     "data": {
      "text/plain": [
       "{101: [1, 2, 3, 4, 5],\n",
       " 'Subject': ['Python', 'UI', 'softskills', 'Apti'],\n",
       " 'Test': [2, 4, 6],\n",
       " 'marks': [50, 100, 200],\n",
       " 'Grade': ['A', 'B', 'C']}"
      ]
     },
     "execution_count": 37,
     "metadata": {},
     "output_type": "execute_result"
    }
   ],
   "source": [
    "dict6[\"Subject\"] = [\"Python\",\"UI\",\"softskills\",\"Apti\"]\n",
    "dict6"
   ]
  },
  {
   "cell_type": "code",
   "execution_count": 38,
   "id": "92179d5a",
   "metadata": {},
   "outputs": [
    {
     "data": {
      "text/plain": [
       "['Python', 'UI', 'softskills', 'Apti']"
      ]
     },
     "execution_count": 38,
     "metadata": {},
     "output_type": "execute_result"
    }
   ],
   "source": [
    "dict6[\"Subject\"]"
   ]
  },
  {
   "cell_type": "code",
   "execution_count": 39,
   "id": "a60de819",
   "metadata": {},
   "outputs": [
    {
     "ename": "IndexError",
     "evalue": "list index out of range",
     "output_type": "error",
     "traceback": [
      "\u001b[31m---------------------------------------------------------------------------\u001b[39m",
      "\u001b[31mIndexError\u001b[39m                                Traceback (most recent call last)",
      "\u001b[36mCell\u001b[39m\u001b[36m \u001b[39m\u001b[32mIn[39]\u001b[39m\u001b[32m, line 1\u001b[39m\n\u001b[32m----> \u001b[39m\u001b[32m1\u001b[39m dict6(\u001b[43m[\u001b[49m\u001b[33;43m\"\u001b[39;49m\u001b[33;43mSubject\u001b[39;49m\u001b[33;43m\"\u001b[39;49m\u001b[43m]\u001b[49m\u001b[43m[\u001b[49m\u001b[32;43m1\u001b[39;49m\u001b[43m]\u001b[49m)\n",
      "\u001b[31mIndexError\u001b[39m: list index out of range"
     ]
    }
   ],
   "source": [
    "dict6([\"Subject\"][1])"
   ]
  }
 ],
 "metadata": {
  "kernelspec": {
   "display_name": "Python 3",
   "language": "python",
   "name": "python3"
  },
  "language_info": {
   "codemirror_mode": {
    "name": "ipython",
    "version": 3
   },
   "file_extension": ".py",
   "mimetype": "text/x-python",
   "name": "python",
   "nbconvert_exporter": "python",
   "pygments_lexer": "ipython3",
   "version": "3.11.9"
  }
 },
 "nbformat": 4,
 "nbformat_minor": 5
}
