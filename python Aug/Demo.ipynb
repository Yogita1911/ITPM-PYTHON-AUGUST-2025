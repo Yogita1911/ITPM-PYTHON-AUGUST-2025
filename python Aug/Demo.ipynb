{
 "cells": [
  {
   "cell_type": "markdown",
   "id": "d9718322",
   "metadata": {},
   "source": [
    "Variables :\n",
    "          Variables are containers which use to store the value.\n",
    "\n",
    "Rules :\n",
    "1.Variable name Contain Lower case,Upper case letters , combination of both and digits  also.\n",
    "2.Variable name con't Use space.\n",
    "3.Can't allow Special char \n",
    "4.can't Start with digits.\n",
    "5.Meaningful.\n",
    "6. Case Sensitivity.\n",
    "7. We Start Variable name with _ in Special case only.\n",
    "8.Can't use keyword as a variable name.\n"
   ]
  },
  {
   "cell_type": "code",
   "execution_count": 1,
   "id": "dca91a7b",
   "metadata": {},
   "outputs": [
    {
     "name": "stdout",
     "output_type": "stream",
     "text": [
      "Hello\n"
     ]
    }
   ],
   "source": [
    "print(\"Hello\")"
   ]
  },
  {
   "cell_type": "code",
   "execution_count": 2,
   "id": "9566c10d",
   "metadata": {},
   "outputs": [
    {
     "name": "stdout",
     "output_type": "stream",
     "text": [
      "3 6.7\n"
     ]
    }
   ],
   "source": [
    "#Variable\n",
    "#in c \n",
    "#int x = 3\n",
    "#in python\n",
    "x = 3\n",
    "y=6.7\n",
    "print(x,y)"
   ]
  },
  {
   "cell_type": "code",
   "execution_count": 3,
   "id": "a0d45cf7",
   "metadata": {},
   "outputs": [
    {
     "name": "stdout",
     "output_type": "stream",
     "text": [
      "3 5\n"
     ]
    }
   ],
   "source": [
    "x,y = 3,5\n",
    "print(x,y)"
   ]
  },
  {
   "cell_type": "code",
   "execution_count": 4,
   "id": "8a0670fc",
   "metadata": {},
   "outputs": [
    {
     "name": "stdout",
     "output_type": "stream",
     "text": [
      "5 5 5 5 5 5\n"
     ]
    }
   ],
   "source": [
    "x= 5\n",
    "y= 5\n",
    "a,b=5,5\n",
    "p=q=5\n",
    "print(x,y,a,b,p,q)"
   ]
  },
  {
   "cell_type": "code",
   "execution_count": 5,
   "id": "0471a28b",
   "metadata": {},
   "outputs": [
    {
     "ename": "ValueError",
     "evalue": "invalid literal for int() with base 10: ''",
     "output_type": "error",
     "traceback": [
      "\u001b[31m---------------------------------------------------------------------------\u001b[39m",
      "\u001b[31mValueError\u001b[39m                                Traceback (most recent call last)",
      "\u001b[36mCell\u001b[39m\u001b[36m \u001b[39m\u001b[32mIn[5]\u001b[39m\u001b[32m, line 1\u001b[39m\n\u001b[32m----> \u001b[39m\u001b[32m1\u001b[39m x = \u001b[38;5;28;43mint\u001b[39;49m\u001b[43m(\u001b[49m\u001b[38;5;28;43minput\u001b[39;49m\u001b[43m(\u001b[49m\u001b[33;43m\"\u001b[39;49m\u001b[33;43mEnter a number\u001b[39;49m\u001b[33;43m\"\u001b[39;49m\u001b[43m)\u001b[49m\u001b[43m)\u001b[49m\n\u001b[32m      2\u001b[39m \u001b[38;5;28mprint\u001b[39m(x)\n",
      "\u001b[31mValueError\u001b[39m: invalid literal for int() with base 10: ''"
     ]
    }
   ],
   "source": [
    "x = int(input(\"Enter a number\"))\n",
    "print(x)"
   ]
  },
  {
   "cell_type": "markdown",
   "id": "077f6940",
   "metadata": {},
   "source": [
    "Variable Naming Rules\n"
   ]
  },
  {
   "cell_type": "code",
   "execution_count": null,
   "id": "2abea569",
   "metadata": {},
   "outputs": [],
   "source": [
    "X=5\n",
    "NAME = 'shreya'\n",
    "name = 'Raj'\n",
    "Name = 'Jay'\n",
    "Name23 = 'Pratik'\n"
   ]
  },
  {
   "cell_type": "code",
   "execution_count": null,
   "id": "89bfe380",
   "metadata": {},
   "outputs": [
    {
     "ename": "SyntaxError",
     "evalue": "cannot assign to literal here. Maybe you meant '==' instead of '='? (3165945472.py, line 2)",
     "output_type": "error",
     "traceback": [
      "  \u001b[36mCell\u001b[39m\u001b[36m \u001b[39m\u001b[32mIn[14]\u001b[39m\u001b[32m, line 2\u001b[39m\n\u001b[31m    \u001b[39m\u001b[31m302 = \"Mrunali\"\u001b[39m\n    ^\n\u001b[31mSyntaxError\u001b[39m\u001b[31m:\u001b[39m cannot assign to literal here. Maybe you meant '==' instead of '='?\n"
     ]
    }
   ],
   "source": [
    "#\n",
    "302 = \"Mrunali\"\n",
    "print(302)"
   ]
  },
  {
   "cell_type": "code",
   "execution_count": null,
   "id": "0c52c076",
   "metadata": {},
   "outputs": [
    {
     "ename": "SyntaxError",
     "evalue": "invalid decimal literal (2350110196.py, line 1)",
     "output_type": "error",
     "traceback": [
      "  \u001b[36mCell\u001b[39m\u001b[36m \u001b[39m\u001b[32mIn[15]\u001b[39m\u001b[32m, line 1\u001b[39m\n\u001b[31m    \u001b[39m\u001b[31m1Name = \"Riya\"\u001b[39m\n    ^\n\u001b[31mSyntaxError\u001b[39m\u001b[31m:\u001b[39m invalid decimal literal\n"
     ]
    }
   ],
   "source": [
    "1Name = \"Riya\"\n",
    "print(1Name)"
   ]
  },
  {
   "cell_type": "code",
   "execution_count": null,
   "id": "7f4ba4a2",
   "metadata": {},
   "outputs": [
    {
     "name": "stdout",
     "output_type": "stream",
     "text": [
      "Pratik\n"
     ]
    }
   ],
   "source": [
    "N1 = \"Pratik\"\n",
    "print(N1)"
   ]
  },
  {
   "cell_type": "code",
   "execution_count": null,
   "id": "1fd09a6a",
   "metadata": {},
   "outputs": [],
   "source": []
  },
  {
   "cell_type": "code",
   "execution_count": null,
   "id": "175768cc",
   "metadata": {},
   "outputs": [
    {
     "ename": "NameError",
     "evalue": "name 'Num' is not defined",
     "output_type": "error",
     "traceback": [
      "\u001b[31m---------------------------------------------------------------------------\u001b[39m",
      "\u001b[31mNameError\u001b[39m                                 Traceback (most recent call last)",
      "\u001b[36mCell\u001b[39m\u001b[36m \u001b[39m\u001b[32mIn[18]\u001b[39m\u001b[32m, line 2\u001b[39m\n\u001b[32m      1\u001b[39m NUM= \u001b[32m5\u001b[39m\n\u001b[32m----> \u001b[39m\u001b[32m2\u001b[39m \u001b[38;5;28mprint\u001b[39m(\u001b[43mNum\u001b[49m)\n",
      "\u001b[31mNameError\u001b[39m: name 'Num' is not defined"
     ]
    }
   ],
   "source": [
    "\n",
    "NUM= 5\n",
    "print(Num)"
   ]
  },
  {
   "cell_type": "code",
   "execution_count": null,
   "id": "54b2ce23",
   "metadata": {},
   "outputs": [
    {
     "ename": "SyntaxError",
     "evalue": "invalid syntax (3320879815.py, line 2)",
     "output_type": "error",
     "traceback": [
      "  \u001b[36mCell\u001b[39m\u001b[36m \u001b[39m\u001b[32mIn[19]\u001b[39m\u001b[32m, line 2\u001b[39m\n\u001b[31m    \u001b[39m\u001b[31mFull Name = \"Tanay Kokate\"\u001b[39m\n         ^\n\u001b[31mSyntaxError\u001b[39m\u001b[31m:\u001b[39m invalid syntax\n"
     ]
    }
   ],
   "source": [
    "#Can't use space\n",
    "Full Name = \"Tanay Kokate\"\n",
    "print(Full Name)"
   ]
  },
  {
   "cell_type": "code",
   "execution_count": null,
   "id": "323cb65c",
   "metadata": {},
   "outputs": [],
   "source": [
    "#Special char not allowed.\n",
    "Name12@ = \"Pratik\""
   ]
  },
  {
   "cell_type": "code",
   "execution_count": null,
   "id": "de1f1dfa",
   "metadata": {},
   "outputs": [
    {
     "name": "stdout",
     "output_type": "stream",
     "text": [
      "Shruti\n"
     ]
    }
   ],
   "source": [
    "_Name = \"Shruti\"\n",
    "print(_Name)"
   ]
  },
  {
   "cell_type": "code",
   "execution_count": null,
   "id": "e6c05f6f",
   "metadata": {},
   "outputs": [
    {
     "name": "stdout",
     "output_type": "stream",
     "text": [
      "5\n"
     ]
    }
   ],
   "source": [
    "uieyiwuehiwjhed = 5\n",
    "print(uieyiwuehiwjhed)"
   ]
  },
  {
   "cell_type": "code",
   "execution_count": null,
   "id": "66bed91e",
   "metadata": {},
   "outputs": [
    {
     "ename": "SyntaxError",
     "evalue": "invalid syntax (975418954.py, line 1)",
     "output_type": "error",
     "traceback": [
      "  \u001b[36mCell\u001b[39m\u001b[36m \u001b[39m\u001b[32mIn[22]\u001b[39m\u001b[32m, line 1\u001b[39m\n\u001b[31m    \u001b[39m\u001b[31mif = 6\u001b[39m\n       ^\n\u001b[31mSyntaxError\u001b[39m\u001b[31m:\u001b[39m invalid syntax\n"
     ]
    }
   ],
   "source": [
    "if = 6\n",
    "print(if)"
   ]
  },
  {
   "cell_type": "code",
   "execution_count": null,
   "id": "853695a6",
   "metadata": {},
   "outputs": [
    {
     "name": "stdout",
     "output_type": "stream",
     "text": [
      "6\n"
     ]
    }
   ],
   "source": [
    "x = 5\n",
    "x = 6\n",
    "print(x)"
   ]
  },
  {
   "cell_type": "code",
   "execution_count": null,
   "id": "5b729dd1",
   "metadata": {},
   "outputs": [
    {
     "name": "stdout",
     "output_type": "stream",
     "text": [
      "79\n",
      "Addition of Two numbers:  79\n",
      "Addition of x=23 and y=56 is : 79\n"
     ]
    }
   ],
   "source": [
    "#Wap to perform add of two numbers take numbers dynamically.\n",
    "x = int(input(\"Enter a number.\"))\n",
    "y = int(input(\"Enter second number.\"))\n",
    "z = x+y\n",
    "print(z)\n",
    "print(\"Addition of Two numbers: \",z)\n",
    "print(f\"Addition of x={x} and y={y} is : {z}\")\n"
   ]
  },
  {
   "cell_type": "code",
   "execution_count": null,
   "id": "18cd42d9",
   "metadata": {},
   "outputs": [],
   "source": [
    "Num1 = 20\n",
    "print(Num1)"
   ]
  },
  {
   "cell_type": "code",
   "execution_count": null,
   "id": "32aec5f0",
   "metadata": {},
   "outputs": [],
   "source": [
    "num2 = 30\n",
    "def add(a1,b1):\n",
    "    a1 = 6\n",
    "    print(a)\n",
    "add()\n",
    "print(num2)    \n",
    "    "
   ]
  },
  {
   "cell_type": "code",
   "execution_count": null,
   "id": "4aa05858",
   "metadata": {},
   "outputs": [],
   "source": [
    "print(a1)"
   ]
  }
 ],
 "metadata": {
  "kernelspec": {
   "display_name": "base",
   "language": "python",
   "name": "python3"
  },
  "language_info": {
   "codemirror_mode": {
    "name": "ipython",
    "version": 3
   },
   "file_extension": ".py",
   "mimetype": "text/x-python",
   "name": "python",
   "nbconvert_exporter": "python",
   "pygments_lexer": "ipython3",
   "version": "3.13.5"
  }
 },
 "nbformat": 4,
 "nbformat_minor": 5
}
